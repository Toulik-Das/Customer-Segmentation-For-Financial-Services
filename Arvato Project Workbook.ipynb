{
 "cells": [
  {
   "cell_type": "markdown",
   "metadata": {},
   "source": [
    "# Capstone Project: Create a Customer Segmentation Report for Arvato Financial Services\n",
    "\n",
    "In this project, you will analyze demographics data for customers of a mail-order sales company in Germany, comparing it against demographics information for the general population. You'll use unsupervised learning techniques to perform customer segmentation, identifying the parts of the population that best describe the core customer base of the company. Then, you'll apply what you've learned on a third dataset with demographics information for targets of a marketing campaign for the company, and use a model to predict which individuals are most likely to convert into becoming customers for the company. The data that you will use has been provided by our partners at Bertelsmann Arvato Analytics, and represents a real-life data science task.\n",
    "\n",
    "If you completed the first term of this program, you will be familiar with the first part of this project, from the unsupervised learning project. The versions of those two datasets used in this project will include many more features and has not been pre-cleaned. You are also free to choose whatever approach you'd like to analyzing the data rather than follow pre-determined steps. In your work on this project, make sure that you carefully document your steps and decisions, since your main deliverable for this project will be a blog post reporting your findings."
   ]
  },
  {
   "cell_type": "code",
   "execution_count": 37,
   "metadata": {},
   "outputs": [],
   "source": [
    "# import libraries here; add more as necessary\n",
    "import numpy as np\n",
    "import pandas as pd\n",
    "import matplotlib.pyplot as plt\n",
    "import seaborn as sns\n",
    "from scipy import stats\n",
    "\n",
    "from sklearn.preprocessing import StandardScaler, MinMaxScaler\n",
    "\n",
    "from sklearn.model_selection import train_test_split\n",
    "from sklearn.model_selection import StratifiedKFold\n",
    "from sklearn.model_selection import GridSearchCV\n",
    "from sklearn.decomposition import PCA\n",
    "from sklearn.preprocessing import Imputer\n",
    "from sklearn.cluster import KMeans\n",
    "from sklearn.cluster import DBSCAN\n",
    "from sklearn.cluster import MeanShift\n",
    "\n",
    "from sklearn.ensemble import AdaBoostRegressor\n",
    "from sklearn.ensemble import GradientBoostingRegressor\n",
    "from xgboost.sklearn import XGBRegressor\n",
    "import xgboost as xgb\n",
    "\n",
    "from sklearn.metrics import roc_auc_score, fbeta_score, accuracy_score, precision_score, recall_score\n",
    "\n",
    "# magic word for producing visualizations in notebook\n",
    "%matplotlib inline"
   ]
  },
  {
   "cell_type": "markdown",
   "metadata": {},
   "source": [
    "## Part 0: Get to Know the Data\n",
    "\n",
    "There are four data files associated with this project:\n",
    "\n",
    "- `Udacity_AZDIAS_052018.csv`: Demographics data for the general population of Germany; 891 211 persons (rows) x 366 features (columns).\n",
    "- `Udacity_CUSTOMERS_052018.csv`: Demographics data for customers of a mail-order company; 191 652 persons (rows) x 369 features (columns).\n",
    "- `Udacity_MAILOUT_052018_TRAIN.csv`: Demographics data for individuals who were targets of a marketing campaign; 42 982 persons (rows) x 367 (columns).\n",
    "- `Udacity_MAILOUT_052018_TEST.csv`: Demographics data for individuals who were targets of a marketing campaign; 42 833 persons (rows) x 366 (columns).\n",
    "\n",
    "Each row of the demographics files represents a single person, but also includes information outside of individuals, including information about their household, building, and neighborhood. Use the information from the first two files to figure out how customers (\"CUSTOMERS\") are similar to or differ from the general population at large (\"AZDIAS\"), then use your analysis to make predictions on the other two files (\"MAILOUT\"), predicting which recipients are most likely to become a customer for the mail-order company.\n",
    "\n",
    "The \"CUSTOMERS\" file contains three extra columns ('CUSTOMER_GROUP', 'ONLINE_PURCHASE', and 'PRODUCT_GROUP'), which provide broad information about the customers depicted in the file. The original \"MAILOUT\" file included one additional column, \"RESPONSE\", which indicated whether or not each recipient became a customer of the company. For the \"TRAIN\" subset, this column has been retained, but in the \"TEST\" subset it has been removed; it is against that withheld column that your final predictions will be assessed in the Kaggle competition.\n",
    "\n",
    "Otherwise, all of the remaining columns are the same between the three data files. For more information about the columns depicted in the files, you can refer to two Excel spreadsheets provided in the workspace. [One of them](./DIAS Information Levels - Attributes 2017.xlsx) is a top-level list of attributes and descriptions, organized by informational category. [The other](./DIAS Attributes - Values 2017.xlsx) is a detailed mapping of data values for each feature in alphabetical order.\n",
    "\n",
    "In the below cell, we've provided some initial code to load in the first two datasets. Note for all of the `.csv` data files in this project that they're semicolon (`;`) delimited, so an additional argument in the [`read_csv()`](https://pandas.pydata.org/pandas-docs/stable/generated/pandas.read_csv.html) call has been included to read in the data properly. Also, considering the size of the datasets, it may take some time for them to load completely.\n",
    "\n",
    "You'll notice when the data is loaded in that a warning message will immediately pop up. Before you really start digging into the modeling and analysis, you're going to need to perform some cleaning. Take some time to browse the structure of the data and look over the informational spreadsheets to understand the data values. Make some decisions on which features to keep, which features to drop, and if any revisions need to be made on data formats. It'll be a good idea to create a function with pre-processing steps, since you'll need to clean all of the datasets before you work with them."
   ]
  },
  {
   "cell_type": "code",
   "execution_count": 2,
   "metadata": {},
   "outputs": [],
   "source": [
    "# load in the data\n",
    "azdias = pd.read_csv('../../data/Term2/capstone/arvato_data/Udacity_AZDIAS_052018.csv', sep=';',low_memory=False)\n",
    "customers = pd.read_csv('../../data/Term2/capstone/arvato_data/Udacity_CUSTOMERS_052018.csv', sep=';',low_memory=False)"
   ]
  },
  {
   "cell_type": "code",
   "execution_count": 3,
   "metadata": {},
   "outputs": [
    {
     "name": "stdout",
     "output_type": "stream",
     "text": [
      "(891221, 366)\n"
     ]
    },
    {
     "data": {
      "text/html": [
       "<div>\n",
       "<style scoped>\n",
       "    .dataframe tbody tr th:only-of-type {\n",
       "        vertical-align: middle;\n",
       "    }\n",
       "\n",
       "    .dataframe tbody tr th {\n",
       "        vertical-align: top;\n",
       "    }\n",
       "\n",
       "    .dataframe thead th {\n",
       "        text-align: right;\n",
       "    }\n",
       "</style>\n",
       "<table border=\"1\" class=\"dataframe\">\n",
       "  <thead>\n",
       "    <tr style=\"text-align: right;\">\n",
       "      <th></th>\n",
       "      <th>LNR</th>\n",
       "      <th>AGER_TYP</th>\n",
       "      <th>AKT_DAT_KL</th>\n",
       "      <th>ALTER_HH</th>\n",
       "      <th>ALTER_KIND1</th>\n",
       "      <th>ALTER_KIND2</th>\n",
       "      <th>ALTER_KIND3</th>\n",
       "      <th>ALTER_KIND4</th>\n",
       "      <th>ALTERSKATEGORIE_FEIN</th>\n",
       "      <th>ANZ_HAUSHALTE_AKTIV</th>\n",
       "      <th>...</th>\n",
       "      <th>VHN</th>\n",
       "      <th>VK_DHT4A</th>\n",
       "      <th>VK_DISTANZ</th>\n",
       "      <th>VK_ZG11</th>\n",
       "      <th>W_KEIT_KIND_HH</th>\n",
       "      <th>WOHNDAUER_2008</th>\n",
       "      <th>WOHNLAGE</th>\n",
       "      <th>ZABEOTYP</th>\n",
       "      <th>ANREDE_KZ</th>\n",
       "      <th>ALTERSKATEGORIE_GROB</th>\n",
       "    </tr>\n",
       "  </thead>\n",
       "  <tbody>\n",
       "    <tr>\n",
       "      <th>0</th>\n",
       "      <td>910215</td>\n",
       "      <td>-1</td>\n",
       "      <td>NaN</td>\n",
       "      <td>NaN</td>\n",
       "      <td>NaN</td>\n",
       "      <td>NaN</td>\n",
       "      <td>NaN</td>\n",
       "      <td>NaN</td>\n",
       "      <td>NaN</td>\n",
       "      <td>NaN</td>\n",
       "      <td>...</td>\n",
       "      <td>NaN</td>\n",
       "      <td>NaN</td>\n",
       "      <td>NaN</td>\n",
       "      <td>NaN</td>\n",
       "      <td>NaN</td>\n",
       "      <td>NaN</td>\n",
       "      <td>NaN</td>\n",
       "      <td>3</td>\n",
       "      <td>1</td>\n",
       "      <td>2</td>\n",
       "    </tr>\n",
       "    <tr>\n",
       "      <th>1</th>\n",
       "      <td>910220</td>\n",
       "      <td>-1</td>\n",
       "      <td>9.0</td>\n",
       "      <td>0.0</td>\n",
       "      <td>NaN</td>\n",
       "      <td>NaN</td>\n",
       "      <td>NaN</td>\n",
       "      <td>NaN</td>\n",
       "      <td>21.0</td>\n",
       "      <td>11.0</td>\n",
       "      <td>...</td>\n",
       "      <td>4.0</td>\n",
       "      <td>8.0</td>\n",
       "      <td>11.0</td>\n",
       "      <td>10.0</td>\n",
       "      <td>3.0</td>\n",
       "      <td>9.0</td>\n",
       "      <td>4.0</td>\n",
       "      <td>5</td>\n",
       "      <td>2</td>\n",
       "      <td>1</td>\n",
       "    </tr>\n",
       "    <tr>\n",
       "      <th>2</th>\n",
       "      <td>910225</td>\n",
       "      <td>-1</td>\n",
       "      <td>9.0</td>\n",
       "      <td>17.0</td>\n",
       "      <td>NaN</td>\n",
       "      <td>NaN</td>\n",
       "      <td>NaN</td>\n",
       "      <td>NaN</td>\n",
       "      <td>17.0</td>\n",
       "      <td>10.0</td>\n",
       "      <td>...</td>\n",
       "      <td>2.0</td>\n",
       "      <td>9.0</td>\n",
       "      <td>9.0</td>\n",
       "      <td>6.0</td>\n",
       "      <td>3.0</td>\n",
       "      <td>9.0</td>\n",
       "      <td>2.0</td>\n",
       "      <td>5</td>\n",
       "      <td>2</td>\n",
       "      <td>3</td>\n",
       "    </tr>\n",
       "    <tr>\n",
       "      <th>3</th>\n",
       "      <td>910226</td>\n",
       "      <td>2</td>\n",
       "      <td>1.0</td>\n",
       "      <td>13.0</td>\n",
       "      <td>NaN</td>\n",
       "      <td>NaN</td>\n",
       "      <td>NaN</td>\n",
       "      <td>NaN</td>\n",
       "      <td>13.0</td>\n",
       "      <td>1.0</td>\n",
       "      <td>...</td>\n",
       "      <td>0.0</td>\n",
       "      <td>7.0</td>\n",
       "      <td>10.0</td>\n",
       "      <td>11.0</td>\n",
       "      <td>NaN</td>\n",
       "      <td>9.0</td>\n",
       "      <td>7.0</td>\n",
       "      <td>3</td>\n",
       "      <td>2</td>\n",
       "      <td>4</td>\n",
       "    </tr>\n",
       "    <tr>\n",
       "      <th>4</th>\n",
       "      <td>910241</td>\n",
       "      <td>-1</td>\n",
       "      <td>1.0</td>\n",
       "      <td>20.0</td>\n",
       "      <td>NaN</td>\n",
       "      <td>NaN</td>\n",
       "      <td>NaN</td>\n",
       "      <td>NaN</td>\n",
       "      <td>14.0</td>\n",
       "      <td>3.0</td>\n",
       "      <td>...</td>\n",
       "      <td>2.0</td>\n",
       "      <td>3.0</td>\n",
       "      <td>5.0</td>\n",
       "      <td>4.0</td>\n",
       "      <td>2.0</td>\n",
       "      <td>9.0</td>\n",
       "      <td>3.0</td>\n",
       "      <td>4</td>\n",
       "      <td>1</td>\n",
       "      <td>3</td>\n",
       "    </tr>\n",
       "  </tbody>\n",
       "</table>\n",
       "<p>5 rows × 366 columns</p>\n",
       "</div>"
      ],
      "text/plain": [
       "      LNR  AGER_TYP  AKT_DAT_KL  ALTER_HH  ALTER_KIND1  ALTER_KIND2  \\\n",
       "0  910215        -1         NaN       NaN          NaN          NaN   \n",
       "1  910220        -1         9.0       0.0          NaN          NaN   \n",
       "2  910225        -1         9.0      17.0          NaN          NaN   \n",
       "3  910226         2         1.0      13.0          NaN          NaN   \n",
       "4  910241        -1         1.0      20.0          NaN          NaN   \n",
       "\n",
       "   ALTER_KIND3  ALTER_KIND4  ALTERSKATEGORIE_FEIN  ANZ_HAUSHALTE_AKTIV  \\\n",
       "0          NaN          NaN                   NaN                  NaN   \n",
       "1          NaN          NaN                  21.0                 11.0   \n",
       "2          NaN          NaN                  17.0                 10.0   \n",
       "3          NaN          NaN                  13.0                  1.0   \n",
       "4          NaN          NaN                  14.0                  3.0   \n",
       "\n",
       "          ...           VHN  VK_DHT4A  VK_DISTANZ  VK_ZG11  W_KEIT_KIND_HH  \\\n",
       "0         ...           NaN       NaN         NaN      NaN             NaN   \n",
       "1         ...           4.0       8.0        11.0     10.0             3.0   \n",
       "2         ...           2.0       9.0         9.0      6.0             3.0   \n",
       "3         ...           0.0       7.0        10.0     11.0             NaN   \n",
       "4         ...           2.0       3.0         5.0      4.0             2.0   \n",
       "\n",
       "   WOHNDAUER_2008  WOHNLAGE ZABEOTYP ANREDE_KZ ALTERSKATEGORIE_GROB  \n",
       "0             NaN       NaN        3         1                    2  \n",
       "1             9.0       4.0        5         2                    1  \n",
       "2             9.0       2.0        5         2                    3  \n",
       "3             9.0       7.0        3         2                    4  \n",
       "4             9.0       3.0        4         1                    3  \n",
       "\n",
       "[5 rows x 366 columns]"
      ]
     },
     "execution_count": 3,
     "metadata": {},
     "output_type": "execute_result"
    }
   ],
   "source": [
    "print(azdias.shape)\n",
    "azdias.head()"
   ]
  },
  {
   "cell_type": "code",
   "execution_count": 4,
   "metadata": {
    "scrolled": true
   },
   "outputs": [
    {
     "data": {
      "text/html": [
       "<div>\n",
       "<style scoped>\n",
       "    .dataframe tbody tr th:only-of-type {\n",
       "        vertical-align: middle;\n",
       "    }\n",
       "\n",
       "    .dataframe tbody tr th {\n",
       "        vertical-align: top;\n",
       "    }\n",
       "\n",
       "    .dataframe thead th {\n",
       "        text-align: right;\n",
       "    }\n",
       "</style>\n",
       "<table border=\"1\" class=\"dataframe\">\n",
       "  <thead>\n",
       "    <tr style=\"text-align: right;\">\n",
       "      <th></th>\n",
       "      <th>LNR</th>\n",
       "      <th>AGER_TYP</th>\n",
       "      <th>AKT_DAT_KL</th>\n",
       "      <th>ALTER_HH</th>\n",
       "      <th>ALTER_KIND1</th>\n",
       "      <th>ALTER_KIND2</th>\n",
       "      <th>ALTER_KIND3</th>\n",
       "      <th>ALTER_KIND4</th>\n",
       "      <th>ALTERSKATEGORIE_FEIN</th>\n",
       "      <th>ANZ_HAUSHALTE_AKTIV</th>\n",
       "      <th>...</th>\n",
       "      <th>VHN</th>\n",
       "      <th>VK_DHT4A</th>\n",
       "      <th>VK_DISTANZ</th>\n",
       "      <th>VK_ZG11</th>\n",
       "      <th>W_KEIT_KIND_HH</th>\n",
       "      <th>WOHNDAUER_2008</th>\n",
       "      <th>WOHNLAGE</th>\n",
       "      <th>ZABEOTYP</th>\n",
       "      <th>ANREDE_KZ</th>\n",
       "      <th>ALTERSKATEGORIE_GROB</th>\n",
       "    </tr>\n",
       "  </thead>\n",
       "  <tbody>\n",
       "    <tr>\n",
       "      <th>count</th>\n",
       "      <td>8.912210e+05</td>\n",
       "      <td>891221.000000</td>\n",
       "      <td>817722.000000</td>\n",
       "      <td>817722.000000</td>\n",
       "      <td>81058.000000</td>\n",
       "      <td>29499.000000</td>\n",
       "      <td>6170.000000</td>\n",
       "      <td>1205.000000</td>\n",
       "      <td>628274.000000</td>\n",
       "      <td>798073.000000</td>\n",
       "      <td>...</td>\n",
       "      <td>770025.000000</td>\n",
       "      <td>815304.000000</td>\n",
       "      <td>815304.000000</td>\n",
       "      <td>815304.000000</td>\n",
       "      <td>783619.000000</td>\n",
       "      <td>817722.000000</td>\n",
       "      <td>798073.000000</td>\n",
       "      <td>891221.000000</td>\n",
       "      <td>891221.000000</td>\n",
       "      <td>891221.000000</td>\n",
       "    </tr>\n",
       "    <tr>\n",
       "      <th>mean</th>\n",
       "      <td>6.372630e+05</td>\n",
       "      <td>-0.358435</td>\n",
       "      <td>4.421928</td>\n",
       "      <td>10.864126</td>\n",
       "      <td>11.745392</td>\n",
       "      <td>13.402658</td>\n",
       "      <td>14.476013</td>\n",
       "      <td>15.089627</td>\n",
       "      <td>13.700717</td>\n",
       "      <td>8.287263</td>\n",
       "      <td>...</td>\n",
       "      <td>2.417322</td>\n",
       "      <td>6.001214</td>\n",
       "      <td>7.532130</td>\n",
       "      <td>5.945972</td>\n",
       "      <td>3.933406</td>\n",
       "      <td>7.908791</td>\n",
       "      <td>4.052836</td>\n",
       "      <td>3.362438</td>\n",
       "      <td>1.522098</td>\n",
       "      <td>2.777398</td>\n",
       "    </tr>\n",
       "    <tr>\n",
       "      <th>std</th>\n",
       "      <td>2.572735e+05</td>\n",
       "      <td>1.198724</td>\n",
       "      <td>3.638805</td>\n",
       "      <td>7.639683</td>\n",
       "      <td>4.097660</td>\n",
       "      <td>3.243300</td>\n",
       "      <td>2.712427</td>\n",
       "      <td>2.452932</td>\n",
       "      <td>5.079849</td>\n",
       "      <td>15.628087</td>\n",
       "      <td>...</td>\n",
       "      <td>1.166572</td>\n",
       "      <td>2.856091</td>\n",
       "      <td>3.247789</td>\n",
       "      <td>2.771464</td>\n",
       "      <td>1.964701</td>\n",
       "      <td>1.923137</td>\n",
       "      <td>1.949539</td>\n",
       "      <td>1.352704</td>\n",
       "      <td>0.499512</td>\n",
       "      <td>1.068775</td>\n",
       "    </tr>\n",
       "    <tr>\n",
       "      <th>min</th>\n",
       "      <td>1.916530e+05</td>\n",
       "      <td>-1.000000</td>\n",
       "      <td>1.000000</td>\n",
       "      <td>0.000000</td>\n",
       "      <td>2.000000</td>\n",
       "      <td>2.000000</td>\n",
       "      <td>4.000000</td>\n",
       "      <td>7.000000</td>\n",
       "      <td>0.000000</td>\n",
       "      <td>0.000000</td>\n",
       "      <td>...</td>\n",
       "      <td>0.000000</td>\n",
       "      <td>1.000000</td>\n",
       "      <td>1.000000</td>\n",
       "      <td>1.000000</td>\n",
       "      <td>0.000000</td>\n",
       "      <td>1.000000</td>\n",
       "      <td>0.000000</td>\n",
       "      <td>1.000000</td>\n",
       "      <td>1.000000</td>\n",
       "      <td>1.000000</td>\n",
       "    </tr>\n",
       "    <tr>\n",
       "      <th>25%</th>\n",
       "      <td>4.144580e+05</td>\n",
       "      <td>-1.000000</td>\n",
       "      <td>1.000000</td>\n",
       "      <td>0.000000</td>\n",
       "      <td>8.000000</td>\n",
       "      <td>11.000000</td>\n",
       "      <td>13.000000</td>\n",
       "      <td>14.000000</td>\n",
       "      <td>11.000000</td>\n",
       "      <td>1.000000</td>\n",
       "      <td>...</td>\n",
       "      <td>2.000000</td>\n",
       "      <td>3.000000</td>\n",
       "      <td>5.000000</td>\n",
       "      <td>4.000000</td>\n",
       "      <td>2.000000</td>\n",
       "      <td>8.000000</td>\n",
       "      <td>3.000000</td>\n",
       "      <td>3.000000</td>\n",
       "      <td>1.000000</td>\n",
       "      <td>2.000000</td>\n",
       "    </tr>\n",
       "    <tr>\n",
       "      <th>50%</th>\n",
       "      <td>6.372630e+05</td>\n",
       "      <td>-1.000000</td>\n",
       "      <td>3.000000</td>\n",
       "      <td>13.000000</td>\n",
       "      <td>12.000000</td>\n",
       "      <td>14.000000</td>\n",
       "      <td>15.000000</td>\n",
       "      <td>15.000000</td>\n",
       "      <td>14.000000</td>\n",
       "      <td>4.000000</td>\n",
       "      <td>...</td>\n",
       "      <td>2.000000</td>\n",
       "      <td>6.000000</td>\n",
       "      <td>8.000000</td>\n",
       "      <td>6.000000</td>\n",
       "      <td>4.000000</td>\n",
       "      <td>9.000000</td>\n",
       "      <td>3.000000</td>\n",
       "      <td>3.000000</td>\n",
       "      <td>2.000000</td>\n",
       "      <td>3.000000</td>\n",
       "    </tr>\n",
       "    <tr>\n",
       "      <th>75%</th>\n",
       "      <td>8.600680e+05</td>\n",
       "      <td>-1.000000</td>\n",
       "      <td>9.000000</td>\n",
       "      <td>17.000000</td>\n",
       "      <td>15.000000</td>\n",
       "      <td>16.000000</td>\n",
       "      <td>17.000000</td>\n",
       "      <td>17.000000</td>\n",
       "      <td>17.000000</td>\n",
       "      <td>9.000000</td>\n",
       "      <td>...</td>\n",
       "      <td>3.000000</td>\n",
       "      <td>9.000000</td>\n",
       "      <td>10.000000</td>\n",
       "      <td>8.000000</td>\n",
       "      <td>6.000000</td>\n",
       "      <td>9.000000</td>\n",
       "      <td>5.000000</td>\n",
       "      <td>4.000000</td>\n",
       "      <td>2.000000</td>\n",
       "      <td>4.000000</td>\n",
       "    </tr>\n",
       "    <tr>\n",
       "      <th>max</th>\n",
       "      <td>1.082873e+06</td>\n",
       "      <td>3.000000</td>\n",
       "      <td>9.000000</td>\n",
       "      <td>21.000000</td>\n",
       "      <td>18.000000</td>\n",
       "      <td>18.000000</td>\n",
       "      <td>18.000000</td>\n",
       "      <td>18.000000</td>\n",
       "      <td>25.000000</td>\n",
       "      <td>595.000000</td>\n",
       "      <td>...</td>\n",
       "      <td>4.000000</td>\n",
       "      <td>11.000000</td>\n",
       "      <td>13.000000</td>\n",
       "      <td>11.000000</td>\n",
       "      <td>6.000000</td>\n",
       "      <td>9.000000</td>\n",
       "      <td>8.000000</td>\n",
       "      <td>6.000000</td>\n",
       "      <td>2.000000</td>\n",
       "      <td>9.000000</td>\n",
       "    </tr>\n",
       "  </tbody>\n",
       "</table>\n",
       "<p>8 rows × 360 columns</p>\n",
       "</div>"
      ],
      "text/plain": [
       "                LNR       AGER_TYP     AKT_DAT_KL       ALTER_HH  \\\n",
       "count  8.912210e+05  891221.000000  817722.000000  817722.000000   \n",
       "mean   6.372630e+05      -0.358435       4.421928      10.864126   \n",
       "std    2.572735e+05       1.198724       3.638805       7.639683   \n",
       "min    1.916530e+05      -1.000000       1.000000       0.000000   \n",
       "25%    4.144580e+05      -1.000000       1.000000       0.000000   \n",
       "50%    6.372630e+05      -1.000000       3.000000      13.000000   \n",
       "75%    8.600680e+05      -1.000000       9.000000      17.000000   \n",
       "max    1.082873e+06       3.000000       9.000000      21.000000   \n",
       "\n",
       "        ALTER_KIND1   ALTER_KIND2  ALTER_KIND3  ALTER_KIND4  \\\n",
       "count  81058.000000  29499.000000  6170.000000  1205.000000   \n",
       "mean      11.745392     13.402658    14.476013    15.089627   \n",
       "std        4.097660      3.243300     2.712427     2.452932   \n",
       "min        2.000000      2.000000     4.000000     7.000000   \n",
       "25%        8.000000     11.000000    13.000000    14.000000   \n",
       "50%       12.000000     14.000000    15.000000    15.000000   \n",
       "75%       15.000000     16.000000    17.000000    17.000000   \n",
       "max       18.000000     18.000000    18.000000    18.000000   \n",
       "\n",
       "       ALTERSKATEGORIE_FEIN  ANZ_HAUSHALTE_AKTIV          ...           \\\n",
       "count         628274.000000        798073.000000          ...            \n",
       "mean              13.700717             8.287263          ...            \n",
       "std                5.079849            15.628087          ...            \n",
       "min                0.000000             0.000000          ...            \n",
       "25%               11.000000             1.000000          ...            \n",
       "50%               14.000000             4.000000          ...            \n",
       "75%               17.000000             9.000000          ...            \n",
       "max               25.000000           595.000000          ...            \n",
       "\n",
       "                 VHN       VK_DHT4A     VK_DISTANZ        VK_ZG11  \\\n",
       "count  770025.000000  815304.000000  815304.000000  815304.000000   \n",
       "mean        2.417322       6.001214       7.532130       5.945972   \n",
       "std         1.166572       2.856091       3.247789       2.771464   \n",
       "min         0.000000       1.000000       1.000000       1.000000   \n",
       "25%         2.000000       3.000000       5.000000       4.000000   \n",
       "50%         2.000000       6.000000       8.000000       6.000000   \n",
       "75%         3.000000       9.000000      10.000000       8.000000   \n",
       "max         4.000000      11.000000      13.000000      11.000000   \n",
       "\n",
       "       W_KEIT_KIND_HH  WOHNDAUER_2008       WOHNLAGE       ZABEOTYP  \\\n",
       "count   783619.000000   817722.000000  798073.000000  891221.000000   \n",
       "mean         3.933406        7.908791       4.052836       3.362438   \n",
       "std          1.964701        1.923137       1.949539       1.352704   \n",
       "min          0.000000        1.000000       0.000000       1.000000   \n",
       "25%          2.000000        8.000000       3.000000       3.000000   \n",
       "50%          4.000000        9.000000       3.000000       3.000000   \n",
       "75%          6.000000        9.000000       5.000000       4.000000   \n",
       "max          6.000000        9.000000       8.000000       6.000000   \n",
       "\n",
       "           ANREDE_KZ  ALTERSKATEGORIE_GROB  \n",
       "count  891221.000000         891221.000000  \n",
       "mean        1.522098              2.777398  \n",
       "std         0.499512              1.068775  \n",
       "min         1.000000              1.000000  \n",
       "25%         1.000000              2.000000  \n",
       "50%         2.000000              3.000000  \n",
       "75%         2.000000              4.000000  \n",
       "max         2.000000              9.000000  \n",
       "\n",
       "[8 rows x 360 columns]"
      ]
     },
     "execution_count": 4,
     "metadata": {},
     "output_type": "execute_result"
    }
   ],
   "source": [
    "# Generate descriptive statistics that summarize the azdias dataframe\n",
    "azdias.describe()"
   ]
  },
  {
   "cell_type": "code",
   "execution_count": 5,
   "metadata": {
    "scrolled": false
   },
   "outputs": [
    {
     "name": "stdout",
     "output_type": "stream",
     "text": [
      "(191652, 369)\n"
     ]
    },
    {
     "data": {
      "text/html": [
       "<div>\n",
       "<style scoped>\n",
       "    .dataframe tbody tr th:only-of-type {\n",
       "        vertical-align: middle;\n",
       "    }\n",
       "\n",
       "    .dataframe tbody tr th {\n",
       "        vertical-align: top;\n",
       "    }\n",
       "\n",
       "    .dataframe thead th {\n",
       "        text-align: right;\n",
       "    }\n",
       "</style>\n",
       "<table border=\"1\" class=\"dataframe\">\n",
       "  <thead>\n",
       "    <tr style=\"text-align: right;\">\n",
       "      <th></th>\n",
       "      <th>LNR</th>\n",
       "      <th>AGER_TYP</th>\n",
       "      <th>AKT_DAT_KL</th>\n",
       "      <th>ALTER_HH</th>\n",
       "      <th>ALTER_KIND1</th>\n",
       "      <th>ALTER_KIND2</th>\n",
       "      <th>ALTER_KIND3</th>\n",
       "      <th>ALTER_KIND4</th>\n",
       "      <th>ALTERSKATEGORIE_FEIN</th>\n",
       "      <th>ANZ_HAUSHALTE_AKTIV</th>\n",
       "      <th>...</th>\n",
       "      <th>VK_ZG11</th>\n",
       "      <th>W_KEIT_KIND_HH</th>\n",
       "      <th>WOHNDAUER_2008</th>\n",
       "      <th>WOHNLAGE</th>\n",
       "      <th>ZABEOTYP</th>\n",
       "      <th>PRODUCT_GROUP</th>\n",
       "      <th>CUSTOMER_GROUP</th>\n",
       "      <th>ONLINE_PURCHASE</th>\n",
       "      <th>ANREDE_KZ</th>\n",
       "      <th>ALTERSKATEGORIE_GROB</th>\n",
       "    </tr>\n",
       "  </thead>\n",
       "  <tbody>\n",
       "    <tr>\n",
       "      <th>0</th>\n",
       "      <td>9626</td>\n",
       "      <td>2</td>\n",
       "      <td>1.0</td>\n",
       "      <td>10.0</td>\n",
       "      <td>NaN</td>\n",
       "      <td>NaN</td>\n",
       "      <td>NaN</td>\n",
       "      <td>NaN</td>\n",
       "      <td>10.0</td>\n",
       "      <td>1.0</td>\n",
       "      <td>...</td>\n",
       "      <td>2.0</td>\n",
       "      <td>6.0</td>\n",
       "      <td>9.0</td>\n",
       "      <td>7.0</td>\n",
       "      <td>3</td>\n",
       "      <td>COSMETIC_AND_FOOD</td>\n",
       "      <td>MULTI_BUYER</td>\n",
       "      <td>0</td>\n",
       "      <td>1</td>\n",
       "      <td>4</td>\n",
       "    </tr>\n",
       "    <tr>\n",
       "      <th>1</th>\n",
       "      <td>9628</td>\n",
       "      <td>-1</td>\n",
       "      <td>9.0</td>\n",
       "      <td>11.0</td>\n",
       "      <td>NaN</td>\n",
       "      <td>NaN</td>\n",
       "      <td>NaN</td>\n",
       "      <td>NaN</td>\n",
       "      <td>NaN</td>\n",
       "      <td>NaN</td>\n",
       "      <td>...</td>\n",
       "      <td>3.0</td>\n",
       "      <td>0.0</td>\n",
       "      <td>9.0</td>\n",
       "      <td>NaN</td>\n",
       "      <td>3</td>\n",
       "      <td>FOOD</td>\n",
       "      <td>SINGLE_BUYER</td>\n",
       "      <td>0</td>\n",
       "      <td>1</td>\n",
       "      <td>4</td>\n",
       "    </tr>\n",
       "    <tr>\n",
       "      <th>2</th>\n",
       "      <td>143872</td>\n",
       "      <td>-1</td>\n",
       "      <td>1.0</td>\n",
       "      <td>6.0</td>\n",
       "      <td>NaN</td>\n",
       "      <td>NaN</td>\n",
       "      <td>NaN</td>\n",
       "      <td>NaN</td>\n",
       "      <td>0.0</td>\n",
       "      <td>1.0</td>\n",
       "      <td>...</td>\n",
       "      <td>11.0</td>\n",
       "      <td>6.0</td>\n",
       "      <td>9.0</td>\n",
       "      <td>2.0</td>\n",
       "      <td>3</td>\n",
       "      <td>COSMETIC_AND_FOOD</td>\n",
       "      <td>MULTI_BUYER</td>\n",
       "      <td>0</td>\n",
       "      <td>2</td>\n",
       "      <td>4</td>\n",
       "    </tr>\n",
       "    <tr>\n",
       "      <th>3</th>\n",
       "      <td>143873</td>\n",
       "      <td>1</td>\n",
       "      <td>1.0</td>\n",
       "      <td>8.0</td>\n",
       "      <td>NaN</td>\n",
       "      <td>NaN</td>\n",
       "      <td>NaN</td>\n",
       "      <td>NaN</td>\n",
       "      <td>8.0</td>\n",
       "      <td>0.0</td>\n",
       "      <td>...</td>\n",
       "      <td>2.0</td>\n",
       "      <td>NaN</td>\n",
       "      <td>9.0</td>\n",
       "      <td>7.0</td>\n",
       "      <td>1</td>\n",
       "      <td>COSMETIC</td>\n",
       "      <td>MULTI_BUYER</td>\n",
       "      <td>0</td>\n",
       "      <td>1</td>\n",
       "      <td>4</td>\n",
       "    </tr>\n",
       "    <tr>\n",
       "      <th>4</th>\n",
       "      <td>143874</td>\n",
       "      <td>-1</td>\n",
       "      <td>1.0</td>\n",
       "      <td>20.0</td>\n",
       "      <td>NaN</td>\n",
       "      <td>NaN</td>\n",
       "      <td>NaN</td>\n",
       "      <td>NaN</td>\n",
       "      <td>14.0</td>\n",
       "      <td>7.0</td>\n",
       "      <td>...</td>\n",
       "      <td>4.0</td>\n",
       "      <td>2.0</td>\n",
       "      <td>9.0</td>\n",
       "      <td>3.0</td>\n",
       "      <td>1</td>\n",
       "      <td>FOOD</td>\n",
       "      <td>MULTI_BUYER</td>\n",
       "      <td>0</td>\n",
       "      <td>1</td>\n",
       "      <td>3</td>\n",
       "    </tr>\n",
       "  </tbody>\n",
       "</table>\n",
       "<p>5 rows × 369 columns</p>\n",
       "</div>"
      ],
      "text/plain": [
       "      LNR  AGER_TYP  AKT_DAT_KL  ALTER_HH  ALTER_KIND1  ALTER_KIND2  \\\n",
       "0    9626         2         1.0      10.0          NaN          NaN   \n",
       "1    9628        -1         9.0      11.0          NaN          NaN   \n",
       "2  143872        -1         1.0       6.0          NaN          NaN   \n",
       "3  143873         1         1.0       8.0          NaN          NaN   \n",
       "4  143874        -1         1.0      20.0          NaN          NaN   \n",
       "\n",
       "   ALTER_KIND3  ALTER_KIND4  ALTERSKATEGORIE_FEIN  ANZ_HAUSHALTE_AKTIV  \\\n",
       "0          NaN          NaN                  10.0                  1.0   \n",
       "1          NaN          NaN                   NaN                  NaN   \n",
       "2          NaN          NaN                   0.0                  1.0   \n",
       "3          NaN          NaN                   8.0                  0.0   \n",
       "4          NaN          NaN                  14.0                  7.0   \n",
       "\n",
       "          ...           VK_ZG11  W_KEIT_KIND_HH  WOHNDAUER_2008  WOHNLAGE  \\\n",
       "0         ...               2.0             6.0             9.0       7.0   \n",
       "1         ...               3.0             0.0             9.0       NaN   \n",
       "2         ...              11.0             6.0             9.0       2.0   \n",
       "3         ...               2.0             NaN             9.0       7.0   \n",
       "4         ...               4.0             2.0             9.0       3.0   \n",
       "\n",
       "   ZABEOTYP      PRODUCT_GROUP  CUSTOMER_GROUP ONLINE_PURCHASE ANREDE_KZ  \\\n",
       "0         3  COSMETIC_AND_FOOD     MULTI_BUYER               0         1   \n",
       "1         3               FOOD    SINGLE_BUYER               0         1   \n",
       "2         3  COSMETIC_AND_FOOD     MULTI_BUYER               0         2   \n",
       "3         1           COSMETIC     MULTI_BUYER               0         1   \n",
       "4         1               FOOD     MULTI_BUYER               0         1   \n",
       "\n",
       "  ALTERSKATEGORIE_GROB  \n",
       "0                    4  \n",
       "1                    4  \n",
       "2                    4  \n",
       "3                    4  \n",
       "4                    3  \n",
       "\n",
       "[5 rows x 369 columns]"
      ]
     },
     "execution_count": 5,
     "metadata": {},
     "output_type": "execute_result"
    }
   ],
   "source": [
    "print(customers.shape)\n",
    "customers.head()"
   ]
  },
  {
   "cell_type": "code",
   "execution_count": 6,
   "metadata": {},
   "outputs": [],
   "source": [
    "# find data that is 'naturally missing' in dataset\n",
    "azdias_null = azdias.isnull().sum()\n",
    "azdias_null_percent = azdias_null / len(azdias) * 100"
   ]
  },
  {
   "cell_type": "code",
   "execution_count": 7,
   "metadata": {},
   "outputs": [
    {
     "data": {
      "text/plain": [
       "<matplotlib.axes._subplots.AxesSubplot at 0x7fe4eb182940>"
      ]
     },
     "execution_count": 7,
     "metadata": {},
     "output_type": "execute_result"
    },
    {
     "data": {
      "image/png": "[encoded data removed]",
      "text/plain": [
       "<matplotlib.figure.Figure at 0x7fe4fc0b6390>"
      ]
     },
     "metadata": {
      "needs_background": "light"
     },
     "output_type": "display_data"
    }
   ],
   "source": [
    "# visualise natually missing data\n",
    "(azdias_null.sort_values(ascending=False)[:50].plot(kind='bar', figsize=(20,10), fontsize=13))"
   ]
  },
  {
   "cell_type": "code",
   "execution_count": 8,
   "metadata": {},
   "outputs": [
    {
     "data": {
      "image/png": "[encoded data removed]",
      "text/plain": [
       "<matplotlib.figure.Figure at 0x7fe4eb04d400>"
      ]
     },
     "metadata": {
      "needs_background": "light"
     },
     "output_type": "display_data"
    },
    {
     "name": "stdout",
     "output_type": "stream",
     "text": [
      "% of missing data in columns \n",
      " ALTER_KIND4                    99.864792\n",
      "ALTER_KIND3                    99.307691\n",
      "ALTER_KIND2                    96.690047\n",
      "ALTER_KIND1                    90.904837\n",
      "EXTSEL992                      73.399639\n",
      "KK_KUNDENTYP                   65.596749\n",
      "ALTERSKATEGORIE_FEIN           29.504130\n",
      "D19_LETZTER_KAUF_BRANCHE       28.849522\n",
      "D19_LOTTO                      28.849522\n",
      "D19_VERSI_ONLINE_QUOTE_12      28.849522\n",
      "D19_BANKEN_ONLINE_QUOTE_12     28.849522\n",
      "D19_SOZIALES                   28.849522\n",
      "D19_GESAMT_ONLINE_QUOTE_12     28.849522\n",
      "D19_KONSUMTYP                  28.849522\n",
      "D19_TELKO_ONLINE_QUOTE_12      28.849522\n",
      "D19_VERSAND_ONLINE_QUOTE_12    28.849522\n",
      "KBA05_MOTOR                    14.959701\n",
      "KBA05_MOD8                     14.959701\n",
      "KBA05_MOD4                     14.959701\n",
      "KBA05_MOD3                     14.959701\n",
      "KBA05_MOD2                     14.959701\n",
      "KBA05_SEG1                     14.959701\n",
      "KBA05_MOD1                     14.959701\n",
      "KBA05_MAXVORB                  14.959701\n",
      "KBA05_MAXSEG                   14.959701\n",
      "KBA05_MAXHERST                 14.959701\n",
      "KBA05_MAXBJ                    14.959701\n",
      "KBA05_MAXAH                    14.959701\n",
      "KBA05_KW3                      14.959701\n",
      "KBA05_MOTRAD                   14.959701\n",
      "                                 ...    \n",
      "D19_RATGEBER                    0.000000\n",
      "FINANZ_ANLEGER                  0.000000\n",
      "D19_REISEN                      0.000000\n",
      "D19_SAMMELARTIKEL               0.000000\n",
      "D19_SCHUHE                      0.000000\n",
      "D19_SONSTIGE                    0.000000\n",
      "D19_TECHNIK                     0.000000\n",
      "D19_TELKO_ANZ_12                0.000000\n",
      "D19_TELKO_ANZ_24                0.000000\n",
      "D19_TELKO_DATUM                 0.000000\n",
      "D19_TELKO_MOBILE                0.000000\n",
      "D19_TELKO_OFFLINE_DATUM         0.000000\n",
      "D19_TELKO_ONLINE_DATUM          0.000000\n",
      "D19_TELKO_REST                  0.000000\n",
      "D19_TIERARTIKEL                 0.000000\n",
      "D19_VERSAND_ANZ_12              0.000000\n",
      "D19_VERSAND_ANZ_24              0.000000\n",
      "D19_VERSAND_DATUM               0.000000\n",
      "D19_VERSAND_OFFLINE_DATUM       0.000000\n",
      "D19_VERSAND_ONLINE_DATUM        0.000000\n",
      "D19_VERSAND_REST                0.000000\n",
      "D19_VERSI_ANZ_12                0.000000\n",
      "D19_VERSI_ANZ_24                0.000000\n",
      "D19_VERSI_DATUM                 0.000000\n",
      "D19_VERSI_OFFLINE_DATUM         0.000000\n",
      "D19_VERSI_ONLINE_DATUM          0.000000\n",
      "D19_VERSICHERUNGEN              0.000000\n",
      "D19_VOLLSORTIMENT               0.000000\n",
      "D19_WEIN_FEINKOST               0.000000\n",
      "LNR                             0.000000\n",
      "Length: 366, dtype: float64\n"
     ]
    }
   ],
   "source": [
    "# get dstirbution of empty data in fields by percentage\n",
    "plt.hist(azdias_null_percent, bins = np.linspace(10,100,19), facecolor='b', alpha=0.75)\n",
    "\n",
    "plt.xlabel('Percentage of missing value (%)')\n",
    "plt.ylabel('Counts')\n",
    "plt.title('Histogram of missing value counts')\n",
    "plt.grid(True)\n",
    "plt.show()\n",
    "# % of missing data in columns\n",
    "print('% of missing data in columns','\\n',azdias_null_percent.sort_values(ascending=False))"
   ]
  },
  {
   "cell_type": "code",
   "execution_count": 9,
   "metadata": {},
   "outputs": [
    {
     "data": {
      "text/plain": [
       "Text(0.5,0,'prop. of missing values')"
      ]
     },
     "execution_count": 9,
     "metadata": {},
     "output_type": "execute_result"
    },
    {
     "data": {
      "image/png": "[encoded data removed]",
      "text/plain": [
       "<matplotlib.figure.Figure at 0x7fe4eb054710>"
      ]
     },
     "metadata": {
      "needs_background": "light"
     },
     "output_type": "display_data"
    }
   ],
   "source": [
    "# visualization of distribution trend \n",
    "column_nans = azdias.isnull().mean()\n",
    "\n",
    "plt.hist(column_nans, bins = np.arange(0,1+.05,.05),facecolor='r')\n",
    "plt.ylabel('# of features')\n",
    "plt.xlabel('prop. of missing values')"
   ]
  },
  {
   "cell_type": "markdown",
   "metadata": {},
   "source": [
    "# Data Preprocessing"
   ]
  },
  {
   "cell_type": "code",
   "execution_count": 10,
   "metadata": {},
   "outputs": [
    {
     "name": "stdout",
     "output_type": "stream",
     "text": [
      "number of rows in new dataset:  733227\n",
      "number of rows dropped:  163978\n"
     ]
    }
   ],
   "source": [
    "azdias = azdias[azdias.isnull().sum(axis=1) <= 16].reset_index(drop=True)\n",
    "azdias_dropped = azdias[azdias.isnull().sum(axis=1) > 9].reset_index(drop=True)\n",
    "print('number of rows in new dataset: ',azdias.shape[0])\n",
    "print('number of rows dropped: ', azdias_dropped.shape[0])"
   ]
  },
  {
   "cell_type": "markdown",
   "metadata": {},
   "source": [
    "\n",
    "#### from above we can see that there is significant difference on % of data missing. >65 is only 6 columns and this is a significant missing data.So let's drop these 6 columns"
   ]
  },
  {
   "cell_type": "code",
   "execution_count": 11,
   "metadata": {},
   "outputs": [
    {
     "name": "stdout",
     "output_type": "stream",
     "text": [
      "columns to drop:  Index(['ALTER_KIND1', 'ALTER_KIND2', 'ALTER_KIND3', 'ALTER_KIND4', 'EXTSEL992',\n",
      "       'KK_KUNDENTYP'],\n",
      "      dtype='object')\n"
     ]
    }
   ],
   "source": [
    "drop_cols = azdias.columns[column_nans > 0.65]\n",
    "print('columns to drop: ', drop_cols)"
   ]
  },
  {
   "cell_type": "code",
   "execution_count": 12,
   "metadata": {},
   "outputs": [],
   "source": [
    "# Before dropping data on azdias lets preprocess customers dataset and get it ready for further processing\n",
    "# Drop the extra column of customers dataset.\n",
    "\n",
    "customers.drop(columns=['CUSTOMER_GROUP', 'ONLINE_PURCHASE', 'PRODUCT_GROUP'], inplace=True)"
   ]
  },
  {
   "cell_type": "code",
   "execution_count": 13,
   "metadata": {},
   "outputs": [
    {
     "name": "stdout",
     "output_type": "stream",
     "text": [
      "# of column in azdias before dropping:  366\n",
      "# of column in azdias after dropping:  360\n",
      "# of column in customers before dropping:  366\n",
      "# of column in customers after dropping:  360\n"
     ]
    }
   ],
   "source": [
    "print('# of column in azdias before dropping: ', len(azdias.columns))\n",
    "azdias = azdias.drop(drop_cols,axis=1)\n",
    "print('# of column in azdias after dropping: ', len(azdias.columns))\n",
    "\n",
    "print('# of column in customers before dropping: ', len(customers.columns))\n",
    "customers = customers.drop(drop_cols,axis=1)\n",
    "print('# of column in customers after dropping: ', len(customers.columns))"
   ]
  },
  {
   "cell_type": "code",
   "execution_count": 14,
   "metadata": {},
   "outputs": [
    {
     "name": "stdout",
     "output_type": "stream",
     "text": [
      "number of rows in new dataset:  (733227, 360)\n",
      "number of rows in new dataset:  (191652, 360)\n"
     ]
    }
   ],
   "source": [
    "print('number of rows in new dataset: ',azdias.shape)\n",
    "print('number of rows in new dataset: ',customers.shape)"
   ]
  },
  {
   "cell_type": "code",
   "execution_count": 15,
   "metadata": {},
   "outputs": [],
   "source": [
    "# object field EINGEFUEGT_AM has too many different items. Dropping from dataset\n",
    "\n",
    "azdias = azdias.drop(['EINGEFUEGT_AM'],axis=1)\n",
    "customers = customers.drop(['EINGEFUEGT_AM'],axis=1)"
   ]
  },
  {
   "cell_type": "code",
   "execution_count": 16,
   "metadata": {},
   "outputs": [],
   "source": [
    "# object field D19_LETZTER_KAUF_BRANCHE has many different items. Dropping from dataset\n",
    "\n",
    "azdias = azdias.drop(['D19_LETZTER_KAUF_BRANCHE'],axis=1)\n",
    "customers = customers.drop(['D19_LETZTER_KAUF_BRANCHE'],axis=1)"
   ]
  },
  {
   "cell_type": "code",
   "execution_count": 17,
   "metadata": {},
   "outputs": [
    {
     "name": "stdout",
     "output_type": "stream",
     "text": [
      "number of columns 238\n",
      "number of columns 256\n"
     ]
    }
   ],
   "source": [
    "# find correlation matrix    \n",
    "corr_matrix = azdias.corr().abs()\n",
    "upper_limit = corr_matrix.where(np.triu(np.ones(corr_matrix.shape), k=1).astype(np.bool))\n",
    "# identify columns to drop based on threshold limit\n",
    "drop_columns = [column for column in upper_limit.columns if any(upper_limit[column] > .7)]\n",
    "# drop columns from azdias\n",
    "azdias = azdias.drop(drop_columns, axis=1)\n",
    "print('number of columns', len(azdias.columns))\n",
    "\n",
    "# repeat for customers\n",
    "# find correlation matrix    \n",
    "corr_matrix = customers.corr().abs()\n",
    "upper_limit = corr_matrix.where(np.triu(np.ones(corr_matrix.shape), k=1).astype(np.bool))\n",
    "# identify columns to drop based on threshold limit\n",
    "drop_columns = [column for column in upper_limit.columns if any(upper_limit[column] > .7)]\n",
    "# drop columns from azdias\n",
    "customers = customers.drop(drop_columns, axis=1)\n",
    "print('number of columns', len(customers.columns))"
   ]
  },
  {
   "cell_type": "code",
   "execution_count": 18,
   "metadata": {},
   "outputs": [
    {
     "name": "stdout",
     "output_type": "stream",
     "text": [
      "number of rows in new dataset:  (733227, 238)\n",
      "number of rows in new dataset:  (191652, 256)\n"
     ]
    }
   ],
   "source": [
    "print('number of rows in new dataset: ',azdias.shape)\n",
    "print('number of rows in new dataset: ',customers.shape)"
   ]
  },
  {
   "cell_type": "code",
   "execution_count": 19,
   "metadata": {
    "scrolled": false
   },
   "outputs": [
    {
     "data": {
      "text/html": [
       "<div>\n",
       "<style scoped>\n",
       "    .dataframe tbody tr th:only-of-type {\n",
       "        vertical-align: middle;\n",
       "    }\n",
       "\n",
       "    .dataframe tbody tr th {\n",
       "        vertical-align: top;\n",
       "    }\n",
       "\n",
       "    .dataframe thead th {\n",
       "        text-align: right;\n",
       "    }\n",
       "</style>\n",
       "<table border=\"1\" class=\"dataframe\">\n",
       "  <thead>\n",
       "    <tr style=\"text-align: right;\">\n",
       "      <th></th>\n",
       "      <th>CAMEO_DEU_2015</th>\n",
       "      <th>CAMEO_DEUG_2015</th>\n",
       "      <th>CAMEO_INTL_2015</th>\n",
       "      <th>OST_WEST_KZ</th>\n",
       "    </tr>\n",
       "  </thead>\n",
       "  <tbody>\n",
       "    <tr>\n",
       "      <th>0</th>\n",
       "      <td>8A</td>\n",
       "      <td>8</td>\n",
       "      <td>51</td>\n",
       "      <td>W</td>\n",
       "    </tr>\n",
       "    <tr>\n",
       "      <th>1</th>\n",
       "      <td>4C</td>\n",
       "      <td>4</td>\n",
       "      <td>24</td>\n",
       "      <td>W</td>\n",
       "    </tr>\n",
       "    <tr>\n",
       "      <th>2</th>\n",
       "      <td>2A</td>\n",
       "      <td>2</td>\n",
       "      <td>12</td>\n",
       "      <td>W</td>\n",
       "    </tr>\n",
       "    <tr>\n",
       "      <th>3</th>\n",
       "      <td>6B</td>\n",
       "      <td>6</td>\n",
       "      <td>43</td>\n",
       "      <td>W</td>\n",
       "    </tr>\n",
       "    <tr>\n",
       "      <th>4</th>\n",
       "      <td>8C</td>\n",
       "      <td>8</td>\n",
       "      <td>54</td>\n",
       "      <td>W</td>\n",
       "    </tr>\n",
       "    <tr>\n",
       "      <th>5</th>\n",
       "      <td>4A</td>\n",
       "      <td>4</td>\n",
       "      <td>22</td>\n",
       "      <td>W</td>\n",
       "    </tr>\n",
       "    <tr>\n",
       "      <th>6</th>\n",
       "      <td>2D</td>\n",
       "      <td>2</td>\n",
       "      <td>14</td>\n",
       "      <td>W</td>\n",
       "    </tr>\n",
       "    <tr>\n",
       "      <th>7</th>\n",
       "      <td>1A</td>\n",
       "      <td>1</td>\n",
       "      <td>13</td>\n",
       "      <td>W</td>\n",
       "    </tr>\n",
       "    <tr>\n",
       "      <th>8</th>\n",
       "      <td>1E</td>\n",
       "      <td>1</td>\n",
       "      <td>15</td>\n",
       "      <td>W</td>\n",
       "    </tr>\n",
       "    <tr>\n",
       "      <th>9</th>\n",
       "      <td>9D</td>\n",
       "      <td>9</td>\n",
       "      <td>51</td>\n",
       "      <td>W</td>\n",
       "    </tr>\n",
       "    <tr>\n",
       "      <th>10</th>\n",
       "      <td>7A</td>\n",
       "      <td>7</td>\n",
       "      <td>41</td>\n",
       "      <td>W</td>\n",
       "    </tr>\n",
       "    <tr>\n",
       "      <th>11</th>\n",
       "      <td>4C</td>\n",
       "      <td>4</td>\n",
       "      <td>24</td>\n",
       "      <td>W</td>\n",
       "    </tr>\n",
       "    <tr>\n",
       "      <th>12</th>\n",
       "      <td>5D</td>\n",
       "      <td>5</td>\n",
       "      <td>34</td>\n",
       "      <td>W</td>\n",
       "    </tr>\n",
       "    <tr>\n",
       "      <th>13</th>\n",
       "      <td>9E</td>\n",
       "      <td>9</td>\n",
       "      <td>55</td>\n",
       "      <td>W</td>\n",
       "    </tr>\n",
       "    <tr>\n",
       "      <th>14</th>\n",
       "      <td>9D</td>\n",
       "      <td>9</td>\n",
       "      <td>51</td>\n",
       "      <td>W</td>\n",
       "    </tr>\n",
       "    <tr>\n",
       "      <th>15</th>\n",
       "      <td>5C</td>\n",
       "      <td>5</td>\n",
       "      <td>33</td>\n",
       "      <td>W</td>\n",
       "    </tr>\n",
       "    <tr>\n",
       "      <th>16</th>\n",
       "      <td>9B</td>\n",
       "      <td>9</td>\n",
       "      <td>51</td>\n",
       "      <td>W</td>\n",
       "    </tr>\n",
       "    <tr>\n",
       "      <th>17</th>\n",
       "      <td>1A</td>\n",
       "      <td>1</td>\n",
       "      <td>13</td>\n",
       "      <td>W</td>\n",
       "    </tr>\n",
       "    <tr>\n",
       "      <th>18</th>\n",
       "      <td>2A</td>\n",
       "      <td>2</td>\n",
       "      <td>12</td>\n",
       "      <td>W</td>\n",
       "    </tr>\n",
       "    <tr>\n",
       "      <th>19</th>\n",
       "      <td>9D</td>\n",
       "      <td>9</td>\n",
       "      <td>51</td>\n",
       "      <td>W</td>\n",
       "    </tr>\n",
       "    <tr>\n",
       "      <th>20</th>\n",
       "      <td>1B</td>\n",
       "      <td>1</td>\n",
       "      <td>14</td>\n",
       "      <td>W</td>\n",
       "    </tr>\n",
       "    <tr>\n",
       "      <th>21</th>\n",
       "      <td>8B</td>\n",
       "      <td>8</td>\n",
       "      <td>41</td>\n",
       "      <td>W</td>\n",
       "    </tr>\n",
       "    <tr>\n",
       "      <th>22</th>\n",
       "      <td>3D</td>\n",
       "      <td>3</td>\n",
       "      <td>25</td>\n",
       "      <td>W</td>\n",
       "    </tr>\n",
       "    <tr>\n",
       "      <th>23</th>\n",
       "      <td>7A</td>\n",
       "      <td>7</td>\n",
       "      <td>41</td>\n",
       "      <td>W</td>\n",
       "    </tr>\n",
       "    <tr>\n",
       "      <th>24</th>\n",
       "      <td>4C</td>\n",
       "      <td>4</td>\n",
       "      <td>24</td>\n",
       "      <td>W</td>\n",
       "    </tr>\n",
       "    <tr>\n",
       "      <th>25</th>\n",
       "      <td>3D</td>\n",
       "      <td>3</td>\n",
       "      <td>25</td>\n",
       "      <td>W</td>\n",
       "    </tr>\n",
       "    <tr>\n",
       "      <th>26</th>\n",
       "      <td>NaN</td>\n",
       "      <td>NaN</td>\n",
       "      <td>NaN</td>\n",
       "      <td>W</td>\n",
       "    </tr>\n",
       "    <tr>\n",
       "      <th>27</th>\n",
       "      <td>4E</td>\n",
       "      <td>4</td>\n",
       "      <td>25</td>\n",
       "      <td>W</td>\n",
       "    </tr>\n",
       "    <tr>\n",
       "      <th>28</th>\n",
       "      <td>4B</td>\n",
       "      <td>4</td>\n",
       "      <td>23</td>\n",
       "      <td>W</td>\n",
       "    </tr>\n",
       "    <tr>\n",
       "      <th>29</th>\n",
       "      <td>4E</td>\n",
       "      <td>4</td>\n",
       "      <td>25</td>\n",
       "      <td>W</td>\n",
       "    </tr>\n",
       "    <tr>\n",
       "      <th>...</th>\n",
       "      <td>...</td>\n",
       "      <td>...</td>\n",
       "      <td>...</td>\n",
       "      <td>...</td>\n",
       "    </tr>\n",
       "    <tr>\n",
       "      <th>733197</th>\n",
       "      <td>1D</td>\n",
       "      <td>1</td>\n",
       "      <td>15</td>\n",
       "      <td>W</td>\n",
       "    </tr>\n",
       "    <tr>\n",
       "      <th>733198</th>\n",
       "      <td>6C</td>\n",
       "      <td>6</td>\n",
       "      <td>44</td>\n",
       "      <td>W</td>\n",
       "    </tr>\n",
       "    <tr>\n",
       "      <th>733199</th>\n",
       "      <td>5B</td>\n",
       "      <td>5</td>\n",
       "      <td>32</td>\n",
       "      <td>W</td>\n",
       "    </tr>\n",
       "    <tr>\n",
       "      <th>733200</th>\n",
       "      <td>6B</td>\n",
       "      <td>6</td>\n",
       "      <td>43</td>\n",
       "      <td>W</td>\n",
       "    </tr>\n",
       "    <tr>\n",
       "      <th>733201</th>\n",
       "      <td>4C</td>\n",
       "      <td>4</td>\n",
       "      <td>24</td>\n",
       "      <td>W</td>\n",
       "    </tr>\n",
       "    <tr>\n",
       "      <th>733202</th>\n",
       "      <td>8D</td>\n",
       "      <td>8</td>\n",
       "      <td>55</td>\n",
       "      <td>W</td>\n",
       "    </tr>\n",
       "    <tr>\n",
       "      <th>733203</th>\n",
       "      <td>4B</td>\n",
       "      <td>4</td>\n",
       "      <td>23</td>\n",
       "      <td>W</td>\n",
       "    </tr>\n",
       "    <tr>\n",
       "      <th>733204</th>\n",
       "      <td>3C</td>\n",
       "      <td>3</td>\n",
       "      <td>24</td>\n",
       "      <td>W</td>\n",
       "    </tr>\n",
       "    <tr>\n",
       "      <th>733205</th>\n",
       "      <td>2C</td>\n",
       "      <td>2</td>\n",
       "      <td>14</td>\n",
       "      <td>W</td>\n",
       "    </tr>\n",
       "    <tr>\n",
       "      <th>733206</th>\n",
       "      <td>8A</td>\n",
       "      <td>8</td>\n",
       "      <td>51</td>\n",
       "      <td>W</td>\n",
       "    </tr>\n",
       "    <tr>\n",
       "      <th>733207</th>\n",
       "      <td>9A</td>\n",
       "      <td>9</td>\n",
       "      <td>52</td>\n",
       "      <td>W</td>\n",
       "    </tr>\n",
       "    <tr>\n",
       "      <th>733208</th>\n",
       "      <td>7A</td>\n",
       "      <td>7</td>\n",
       "      <td>41</td>\n",
       "      <td>W</td>\n",
       "    </tr>\n",
       "    <tr>\n",
       "      <th>733209</th>\n",
       "      <td>8B</td>\n",
       "      <td>8</td>\n",
       "      <td>41</td>\n",
       "      <td>W</td>\n",
       "    </tr>\n",
       "    <tr>\n",
       "      <th>733210</th>\n",
       "      <td>3C</td>\n",
       "      <td>3</td>\n",
       "      <td>24</td>\n",
       "      <td>W</td>\n",
       "    </tr>\n",
       "    <tr>\n",
       "      <th>733211</th>\n",
       "      <td>5E</td>\n",
       "      <td>5</td>\n",
       "      <td>34</td>\n",
       "      <td>W</td>\n",
       "    </tr>\n",
       "    <tr>\n",
       "      <th>733212</th>\n",
       "      <td>3D</td>\n",
       "      <td>3</td>\n",
       "      <td>25</td>\n",
       "      <td>W</td>\n",
       "    </tr>\n",
       "    <tr>\n",
       "      <th>733213</th>\n",
       "      <td>7A</td>\n",
       "      <td>7</td>\n",
       "      <td>41</td>\n",
       "      <td>W</td>\n",
       "    </tr>\n",
       "    <tr>\n",
       "      <th>733214</th>\n",
       "      <td>2C</td>\n",
       "      <td>2</td>\n",
       "      <td>14</td>\n",
       "      <td>W</td>\n",
       "    </tr>\n",
       "    <tr>\n",
       "      <th>733215</th>\n",
       "      <td>8A</td>\n",
       "      <td>8</td>\n",
       "      <td>51</td>\n",
       "      <td>W</td>\n",
       "    </tr>\n",
       "    <tr>\n",
       "      <th>733216</th>\n",
       "      <td>8B</td>\n",
       "      <td>8</td>\n",
       "      <td>41</td>\n",
       "      <td>W</td>\n",
       "    </tr>\n",
       "    <tr>\n",
       "      <th>733217</th>\n",
       "      <td>9D</td>\n",
       "      <td>9</td>\n",
       "      <td>51</td>\n",
       "      <td>W</td>\n",
       "    </tr>\n",
       "    <tr>\n",
       "      <th>733218</th>\n",
       "      <td>9D</td>\n",
       "      <td>9</td>\n",
       "      <td>51</td>\n",
       "      <td>W</td>\n",
       "    </tr>\n",
       "    <tr>\n",
       "      <th>733219</th>\n",
       "      <td>5E</td>\n",
       "      <td>5</td>\n",
       "      <td>34</td>\n",
       "      <td>W</td>\n",
       "    </tr>\n",
       "    <tr>\n",
       "      <th>733220</th>\n",
       "      <td>3A</td>\n",
       "      <td>3</td>\n",
       "      <td>23</td>\n",
       "      <td>W</td>\n",
       "    </tr>\n",
       "    <tr>\n",
       "      <th>733221</th>\n",
       "      <td>5A</td>\n",
       "      <td>5</td>\n",
       "      <td>31</td>\n",
       "      <td>W</td>\n",
       "    </tr>\n",
       "    <tr>\n",
       "      <th>733222</th>\n",
       "      <td>7A</td>\n",
       "      <td>7</td>\n",
       "      <td>41</td>\n",
       "      <td>W</td>\n",
       "    </tr>\n",
       "    <tr>\n",
       "      <th>733223</th>\n",
       "      <td>9D</td>\n",
       "      <td>9</td>\n",
       "      <td>51</td>\n",
       "      <td>W</td>\n",
       "    </tr>\n",
       "    <tr>\n",
       "      <th>733224</th>\n",
       "      <td>4C</td>\n",
       "      <td>4</td>\n",
       "      <td>24</td>\n",
       "      <td>W</td>\n",
       "    </tr>\n",
       "    <tr>\n",
       "      <th>733225</th>\n",
       "      <td>9D</td>\n",
       "      <td>9</td>\n",
       "      <td>51</td>\n",
       "      <td>W</td>\n",
       "    </tr>\n",
       "    <tr>\n",
       "      <th>733226</th>\n",
       "      <td>6B</td>\n",
       "      <td>6</td>\n",
       "      <td>43</td>\n",
       "      <td>W</td>\n",
       "    </tr>\n",
       "  </tbody>\n",
       "</table>\n",
       "<p>733227 rows × 4 columns</p>\n",
       "</div>"
      ],
      "text/plain": [
       "       CAMEO_DEU_2015 CAMEO_DEUG_2015 CAMEO_INTL_2015 OST_WEST_KZ\n",
       "0                  8A               8              51           W\n",
       "1                  4C               4              24           W\n",
       "2                  2A               2              12           W\n",
       "3                  6B               6              43           W\n",
       "4                  8C               8              54           W\n",
       "5                  4A               4              22           W\n",
       "6                  2D               2              14           W\n",
       "7                  1A               1              13           W\n",
       "8                  1E               1              15           W\n",
       "9                  9D               9              51           W\n",
       "10                 7A               7              41           W\n",
       "11                 4C               4              24           W\n",
       "12                 5D               5              34           W\n",
       "13                 9E               9              55           W\n",
       "14                 9D               9              51           W\n",
       "15                 5C               5              33           W\n",
       "16                 9B               9              51           W\n",
       "17                 1A               1              13           W\n",
       "18                 2A               2              12           W\n",
       "19                 9D               9              51           W\n",
       "20                 1B               1              14           W\n",
       "21                 8B               8              41           W\n",
       "22                 3D               3              25           W\n",
       "23                 7A               7              41           W\n",
       "24                 4C               4              24           W\n",
       "25                 3D               3              25           W\n",
       "26                NaN             NaN             NaN           W\n",
       "27                 4E               4              25           W\n",
       "28                 4B               4              23           W\n",
       "29                 4E               4              25           W\n",
       "...               ...             ...             ...         ...\n",
       "733197             1D               1              15           W\n",
       "733198             6C               6              44           W\n",
       "733199             5B               5              32           W\n",
       "733200             6B               6              43           W\n",
       "733201             4C               4              24           W\n",
       "733202             8D               8              55           W\n",
       "733203             4B               4              23           W\n",
       "733204             3C               3              24           W\n",
       "733205             2C               2              14           W\n",
       "733206             8A               8              51           W\n",
       "733207             9A               9              52           W\n",
       "733208             7A               7              41           W\n",
       "733209             8B               8              41           W\n",
       "733210             3C               3              24           W\n",
       "733211             5E               5              34           W\n",
       "733212             3D               3              25           W\n",
       "733213             7A               7              41           W\n",
       "733214             2C               2              14           W\n",
       "733215             8A               8              51           W\n",
       "733216             8B               8              41           W\n",
       "733217             9D               9              51           W\n",
       "733218             9D               9              51           W\n",
       "733219             5E               5              34           W\n",
       "733220             3A               3              23           W\n",
       "733221             5A               5              31           W\n",
       "733222             7A               7              41           W\n",
       "733223             9D               9              51           W\n",
       "733224             4C               4              24           W\n",
       "733225             9D               9              51           W\n",
       "733226             6B               6              43           W\n",
       "\n",
       "[733227 rows x 4 columns]"
      ]
     },
     "execution_count": 19,
     "metadata": {},
     "output_type": "execute_result"
    }
   ],
   "source": [
    "# we have removed columns that has mostly missing values and do not add value. Let's explore columns with object data type.\n",
    "azdias.select_dtypes(include=['object'])"
   ]
  },
  {
   "cell_type": "code",
   "execution_count": 20,
   "metadata": {},
   "outputs": [
    {
     "data": {
      "text/html": [
       "<div>\n",
       "<style scoped>\n",
       "    .dataframe tbody tr th:only-of-type {\n",
       "        vertical-align: middle;\n",
       "    }\n",
       "\n",
       "    .dataframe tbody tr th {\n",
       "        vertical-align: top;\n",
       "    }\n",
       "\n",
       "    .dataframe thead th {\n",
       "        text-align: right;\n",
       "    }\n",
       "</style>\n",
       "<table border=\"1\" class=\"dataframe\">\n",
       "  <thead>\n",
       "    <tr style=\"text-align: right;\">\n",
       "      <th></th>\n",
       "      <th>CAMEO_DEU_2015</th>\n",
       "      <th>CAMEO_DEUG_2015</th>\n",
       "      <th>CAMEO_INTL_2015</th>\n",
       "      <th>OST_WEST_KZ</th>\n",
       "    </tr>\n",
       "  </thead>\n",
       "  <tbody>\n",
       "    <tr>\n",
       "      <th>0</th>\n",
       "      <td>1A</td>\n",
       "      <td>1</td>\n",
       "      <td>13</td>\n",
       "      <td>W</td>\n",
       "    </tr>\n",
       "    <tr>\n",
       "      <th>1</th>\n",
       "      <td>NaN</td>\n",
       "      <td>NaN</td>\n",
       "      <td>NaN</td>\n",
       "      <td>NaN</td>\n",
       "    </tr>\n",
       "    <tr>\n",
       "      <th>2</th>\n",
       "      <td>5D</td>\n",
       "      <td>5</td>\n",
       "      <td>34</td>\n",
       "      <td>W</td>\n",
       "    </tr>\n",
       "    <tr>\n",
       "      <th>3</th>\n",
       "      <td>4C</td>\n",
       "      <td>4</td>\n",
       "      <td>24</td>\n",
       "      <td>W</td>\n",
       "    </tr>\n",
       "    <tr>\n",
       "      <th>4</th>\n",
       "      <td>7B</td>\n",
       "      <td>7</td>\n",
       "      <td>41</td>\n",
       "      <td>W</td>\n",
       "    </tr>\n",
       "  </tbody>\n",
       "</table>\n",
       "</div>"
      ],
      "text/plain": [
       "  CAMEO_DEU_2015 CAMEO_DEUG_2015 CAMEO_INTL_2015 OST_WEST_KZ\n",
       "0             1A               1              13           W\n",
       "1            NaN             NaN             NaN         NaN\n",
       "2             5D               5              34           W\n",
       "3             4C               4              24           W\n",
       "4             7B               7              41           W"
      ]
     },
     "execution_count": 20,
     "metadata": {},
     "output_type": "execute_result"
    }
   ],
   "source": [
    "customers.select_dtypes(include=['object']).head()"
   ]
  },
  {
   "cell_type": "code",
   "execution_count": 21,
   "metadata": {},
   "outputs": [
    {
     "name": "stdout",
     "output_type": "stream",
     "text": [
      "num_cols:  Index(['LNR', 'AGER_TYP', 'AKT_DAT_KL', 'ALTER_HH', 'ALTERSKATEGORIE_FEIN',\n",
      "       'ANZ_HAUSHALTE_AKTIV', 'ANZ_HH_TITEL', 'ANZ_KINDER', 'ANZ_PERSONEN',\n",
      "       'ANZ_TITEL',\n",
      "       ...\n",
      "       'UMFELD_ALT', 'UMFELD_JUNG', 'UNGLEICHENN_FLAG', 'VERDICHTUNGSRAUM',\n",
      "       'VERS_TYP', 'VHA', 'VHN', 'W_KEIT_KIND_HH', 'WOHNLAGE', 'ZABEOTYP'],\n",
      "      dtype='object', length=234)\n"
     ]
    }
   ],
   "source": [
    "# before going ahead with encoding we need to find categorical fields - below 1 hack option to do it\n",
    "\n",
    "cols = azdias.columns\n",
    "num_cols = azdias._get_numeric_data().columns\n",
    "print('num_cols: ',num_cols)\n"
   ]
  },
  {
   "cell_type": "code",
   "execution_count": 22,
   "metadata": {},
   "outputs": [],
   "source": [
    "# we need to fill missing values here. We will fill missing values with -1 indicating unknown as in the description.\n",
    "\n",
    "azdias[['CAMEO_DEUG_2015','CAMEO_INTL_2015']] = azdias[['CAMEO_DEUG_2015','CAMEO_INTL_2015']].replace(['X','XX'],-1)\n",
    "customers[['CAMEO_DEUG_2015','CAMEO_INTL_2015']] = customers[['CAMEO_DEUG_2015','CAMEO_INTL_2015']].replace(['X','XX'],-1)\n",
    "azdias[['CAMEO_DEUG_2015','CAMEO_INTL_2015']] = azdias[['CAMEO_DEUG_2015','CAMEO_INTL_2015']].fillna(-1)\n",
    "customers[['CAMEO_DEUG_2015','CAMEO_INTL_2015']] = customers[['CAMEO_DEUG_2015','CAMEO_INTL_2015']].fillna(-1)\n",
    "azdias[['CAMEO_DEUG_2015','CAMEO_INTL_2015']] = azdias[['CAMEO_DEUG_2015','CAMEO_INTL_2015']].astype(int)\n",
    "customers[['CAMEO_DEUG_2015','CAMEO_INTL_2015']] = customers[['CAMEO_DEUG_2015','CAMEO_INTL_2015']].astype(int)\n",
    "azdias[['CAMEO_DEU_2015','OST_WEST_KZ']]=azdias[['CAMEO_DEU_2015','OST_WEST_KZ']].fillna(-1)\n",
    "customers[['CAMEO_DEU_2015','OST_WEST_KZ']]=customers[['CAMEO_DEU_2015','OST_WEST_KZ']].fillna(-1)"
   ]
  },
  {
   "cell_type": "code",
   "execution_count": 23,
   "metadata": {},
   "outputs": [
    {
     "data": {
      "text/plain": [
       "LNR                             0\n",
       "AGER_TYP                        0\n",
       "AKT_DAT_KL                  46596\n",
       "ALTER_HH                    46596\n",
       "ALTERSKATEGORIE_FEIN        51842\n",
       "ANZ_HAUSHALTE_AKTIV         49927\n",
       "ANZ_HH_TITEL                52110\n",
       "ANZ_KINDER                  46596\n",
       "ANZ_PERSONEN                46596\n",
       "ANZ_TITEL                   46596\n",
       "ARBEIT                      50476\n",
       "BALLRAUM                    49959\n",
       "CAMEO_DEU_2015                  0\n",
       "CAMEO_DEUG_2015                 0\n",
       "CAMEO_INTL_2015                 0\n",
       "CJT_GESAMTTYP                3213\n",
       "CJT_KATALOGNUTZER            3213\n",
       "CJT_TYP_1                    3213\n",
       "CJT_TYP_3                    3213\n",
       "CJT_TYP_6                    3213\n",
       "D19_BANKEN_ANZ_12               0\n",
       "D19_BANKEN_DIREKT               0\n",
       "D19_BANKEN_GROSS                0\n",
       "D19_BANKEN_LOKAL                0\n",
       "D19_BANKEN_OFFLINE_DATUM        0\n",
       "D19_BANKEN_REST                 0\n",
       "D19_BEKLEIDUNG_GEH              0\n",
       "D19_BEKLEIDUNG_REST             0\n",
       "D19_BILDUNG                     0\n",
       "D19_BIO_OEKO                    0\n",
       "                            ...  \n",
       "MIN_GEBAEUDEJAHR            49927\n",
       "MOBI_RASTER                 49927\n",
       "OST_WEST_KZ                     0\n",
       "RELAT_AB                    50476\n",
       "RETOURTYP_BK_S               3213\n",
       "RT_KEIN_ANREIZ               3213\n",
       "RT_SCHNAEPPCHEN              3213\n",
       "RT_UEBERGROESSE             44192\n",
       "SEMIO_DOM                       0\n",
       "SEMIO_ERL                       0\n",
       "SEMIO_FAM                       0\n",
       "SEMIO_LUST                      0\n",
       "SEMIO_MAT                       0\n",
       "SEMIO_PFLICHT                   0\n",
       "SEMIO_RAT                       0\n",
       "SEMIO_SOZ                       0\n",
       "SEMIO_TRADV                     0\n",
       "SOHO_KZ                     46596\n",
       "TITEL_KZ                    46596\n",
       "UMFELD_ALT                  50448\n",
       "UMFELD_JUNG                 50448\n",
       "UNGLEICHENN_FLAG            46596\n",
       "VERDICHTUNGSRAUM            50476\n",
       "VHA                         46596\n",
       "VHN                         54260\n",
       "VK_DHT4A                    47871\n",
       "W_KEIT_KIND_HH              53742\n",
       "WOHNDAUER_2008              46596\n",
       "WOHNLAGE                    49927\n",
       "ZABEOTYP                        0\n",
       "Length: 256, dtype: int64"
      ]
     },
     "execution_count": 23,
     "metadata": {},
     "output_type": "execute_result"
    }
   ],
   "source": [
    "customers.isnull().sum()"
   ]
  },
  {
   "cell_type": "code",
   "execution_count": 24,
   "metadata": {},
   "outputs": [
    {
     "data": {
      "text/plain": [
       "LNR                              0\n",
       "AGER_TYP                         0\n",
       "AKT_DAT_KL                       0\n",
       "ALTER_HH                         0\n",
       "ALTERSKATEGORIE_FEIN        167182\n",
       "ANZ_HAUSHALTE_AKTIV              0\n",
       "ANZ_HH_TITEL                  2783\n",
       "ANZ_KINDER                       0\n",
       "ANZ_PERSONEN                     0\n",
       "ANZ_TITEL                        0\n",
       "ARBEIT                        2948\n",
       "BALLRAUM                       418\n",
       "CAMEO_DEU_2015                   0\n",
       "CAMEO_DEUG_2015                  0\n",
       "CAMEO_INTL_2015                  0\n",
       "CJT_GESAMTTYP                    0\n",
       "CJT_KATALOGNUTZER                0\n",
       "CJT_TYP_1                        0\n",
       "CJT_TYP_6                        0\n",
       "D19_BANKEN_ANZ_12                0\n",
       "D19_BANKEN_DIREKT                0\n",
       "D19_BANKEN_GROSS                 0\n",
       "D19_BANKEN_LOKAL                 0\n",
       "D19_BANKEN_OFFLINE_DATUM         0\n",
       "D19_BANKEN_REST                  0\n",
       "D19_BEKLEIDUNG_GEH               0\n",
       "D19_BEKLEIDUNG_REST              0\n",
       "D19_BILDUNG                      0\n",
       "D19_BIO_OEKO                     0\n",
       "D19_BUCH_CD                      0\n",
       "                             ...  \n",
       "NATIONALITAET_KZ                 0\n",
       "OST_WEST_KZ                      0\n",
       "RELAT_AB                      2948\n",
       "RETOURTYP_BK_S                   0\n",
       "RT_KEIN_ANREIZ                   0\n",
       "RT_SCHNAEPPCHEN                  0\n",
       "RT_UEBERGROESSE                332\n",
       "SEMIO_DOM                        0\n",
       "SEMIO_ERL                        0\n",
       "SEMIO_FAM                        0\n",
       "SEMIO_KRIT                       0\n",
       "SEMIO_LUST                       0\n",
       "SEMIO_MAT                        0\n",
       "SEMIO_PFLICHT                    0\n",
       "SEMIO_RAT                        0\n",
       "SEMIO_SOZ                        0\n",
       "SEMIO_TRADV                      0\n",
       "SHOPPER_TYP                      0\n",
       "SOHO_KZ                          0\n",
       "TITEL_KZ                         0\n",
       "UMFELD_ALT                    1889\n",
       "UMFELD_JUNG                   1889\n",
       "UNGLEICHENN_FLAG                 0\n",
       "VERDICHTUNGSRAUM              2978\n",
       "VERS_TYP                         0\n",
       "VHA                              0\n",
       "VHN                           6250\n",
       "W_KEIT_KIND_HH               22129\n",
       "WOHNLAGE                         0\n",
       "ZABEOTYP                         0\n",
       "Length: 238, dtype: int64"
      ]
     },
     "execution_count": 24,
     "metadata": {},
     "output_type": "execute_result"
    }
   ],
   "source": [
    "azdias.isnull().sum()"
   ]
  },
  {
   "cell_type": "code",
   "execution_count": 25,
   "metadata": {},
   "outputs": [],
   "source": [
    "# fillna with 9 for fields that has 9 marked as unknown\n",
    "\n",
    "azdias[azdias.columns[(azdias==9).any()]] = azdias[azdias.columns[(azdias==9).any()]].fillna(9)\n",
    "customers[customers.columns[(customers==9).any()]] = customers[customers.columns[(customers==9).any()]].fillna(9)"
   ]
  },
  {
   "cell_type": "code",
   "execution_count": 26,
   "metadata": {},
   "outputs": [],
   "source": [
    "# fillna with 0 for fields that has 0 marked as unknown\n",
    "\n",
    "azdias[azdias.columns[(azdias==0).any()]] = azdias[azdias.columns[(azdias==0).any()]].fillna(0)\n",
    "customers[customers.columns[(customers==0).any()]] = customers[customers.columns[(customers==0).any()]].fillna(0)"
   ]
  },
  {
   "cell_type": "code",
   "execution_count": 27,
   "metadata": {},
   "outputs": [],
   "source": [
    "# fillna with -1 for fields that has 0 marked as unknown\n",
    "\n",
    "azdias[azdias.columns[(azdias==-1).any()]] = azdias[azdias.columns[(azdias==-1).any()]].fillna(-1)\n",
    "customers[customers.columns[(customers==-1).any()]] = customers[customers.columns[(customers==-1).any()]].fillna(-1)"
   ]
  },
  {
   "cell_type": "code",
   "execution_count": 28,
   "metadata": {},
   "outputs": [],
   "source": [
    "#with  all null data now handled, we should focus on getting objects/categorical variables to numbers via one hot encoding\n",
    "\n",
    "azdias = pd.get_dummies(azdias)\n",
    "customers = pd.get_dummies(customers)"
   ]
  },
  {
   "cell_type": "code",
   "execution_count": 29,
   "metadata": {},
   "outputs": [
    {
     "name": "stdout",
     "output_type": "stream",
     "text": [
      "number of rows in new dataset:  (733227, 284)\n",
      "number of rows in new dataset:  (191652, 303)\n"
     ]
    }
   ],
   "source": [
    "print('number of rows in new dataset: ',azdias.shape)\n",
    "print('number of rows in new dataset: ',customers.shape)"
   ]
  },
  {
   "cell_type": "code",
   "execution_count": 30,
   "metadata": {},
   "outputs": [
    {
     "name": "stdout",
     "output_type": "stream",
     "text": [
      "Index(['LNR', 'AGER_TYP', 'AKT_DAT_KL', 'ALTER_HH', 'ALTERSKATEGORIE_FEIN',\n",
      "       'ANZ_HAUSHALTE_AKTIV', 'ANZ_HH_TITEL', 'ANZ_KINDER', 'ANZ_PERSONEN',\n",
      "       'ANZ_TITEL',\n",
      "       ...\n",
      "       'CAMEO_DEU_2015_8C', 'CAMEO_DEU_2015_8D', 'CAMEO_DEU_2015_9A',\n",
      "       'CAMEO_DEU_2015_9B', 'CAMEO_DEU_2015_9C', 'CAMEO_DEU_2015_9D',\n",
      "       'CAMEO_DEU_2015_9E', 'CAMEO_DEU_2015_XX', 'OST_WEST_KZ_O',\n",
      "       'OST_WEST_KZ_W'],\n",
      "      dtype='object', length=284)\n",
      "Index(['LNR', 'AGER_TYP', 'AKT_DAT_KL', 'ALTER_HH', 'ALTERSKATEGORIE_FEIN',\n",
      "       'ANZ_HAUSHALTE_AKTIV', 'ANZ_HH_TITEL', 'ANZ_KINDER', 'ANZ_PERSONEN',\n",
      "       'ANZ_TITEL',\n",
      "       ...\n",
      "       'CAMEO_DEU_2015_8D', 'CAMEO_DEU_2015_9A', 'CAMEO_DEU_2015_9B',\n",
      "       'CAMEO_DEU_2015_9C', 'CAMEO_DEU_2015_9D', 'CAMEO_DEU_2015_9E',\n",
      "       'CAMEO_DEU_2015_XX', 'OST_WEST_KZ_-1', 'OST_WEST_KZ_O',\n",
      "       'OST_WEST_KZ_W'],\n",
      "      dtype='object', length=303)\n"
     ]
    }
   ],
   "source": [
    "azdias_columns = azdias.columns\n",
    "customers_columns = customers.columns\n",
    "print(azdias.columns)\n",
    "print(customers.columns)"
   ]
  },
  {
   "cell_type": "code",
   "execution_count": 31,
   "metadata": {},
   "outputs": [
    {
     "name": "stdout",
     "output_type": "stream",
     "text": [
      "imputed azdias:          0    1    2     3     4     5    6    7    8    9   ...   274  275  \\\n",
      "0  910220.0 -1.0  9.0   0.0  21.0  11.0  0.0  0.0  2.0  0.0 ...   0.0  0.0   \n",
      "1  910225.0 -1.0  9.0  17.0  17.0  10.0  0.0  0.0  1.0  0.0 ...   0.0  0.0   \n",
      "2  910226.0  2.0  1.0  13.0  13.0   1.0  0.0  0.0  0.0  0.0 ...   0.0  0.0   \n",
      "3  910241.0 -1.0  1.0  20.0  14.0   3.0  0.0  0.0  4.0  0.0 ...   0.0  0.0   \n",
      "4  910244.0  3.0  1.0  10.0  10.0   5.0  0.0  0.0  1.0  0.0 ...   1.0  0.0   \n",
      "\n",
      "   276  277  278  279  280  281  282  283  \n",
      "0  0.0  0.0  0.0  0.0  0.0  0.0  0.0  1.0  \n",
      "1  0.0  0.0  0.0  0.0  0.0  0.0  0.0  1.0  \n",
      "2  0.0  0.0  0.0  0.0  0.0  0.0  0.0  1.0  \n",
      "3  0.0  0.0  0.0  0.0  0.0  0.0  0.0  1.0  \n",
      "4  0.0  0.0  0.0  0.0  0.0  0.0  0.0  1.0  \n",
      "\n",
      "[5 rows x 284 columns]\n",
      "imputed customers:          0    1    2     3     4    5    6    7    8    9   ...   293  294  \\\n",
      "0    9626.0  2.0  1.0  10.0  10.0  1.0  0.0  0.0  2.0  0.0 ...   0.0  0.0   \n",
      "1    9628.0 -1.0  9.0  11.0   9.0  9.0  9.0  0.0  3.0  0.0 ...   0.0  0.0   \n",
      "2  143872.0 -1.0  1.0   6.0   0.0  1.0  0.0  0.0  1.0  0.0 ...   0.0  0.0   \n",
      "3  143873.0  1.0  1.0   8.0   8.0  0.0  9.0  0.0  0.0  0.0 ...   0.0  0.0   \n",
      "4  143874.0 -1.0  1.0  20.0  14.0  7.0  0.0  0.0  4.0  0.0 ...   0.0  0.0   \n",
      "\n",
      "   295  296  297  298  299  300  301  302  \n",
      "0  0.0  0.0  0.0  0.0  0.0  0.0  0.0  1.0  \n",
      "1  0.0  0.0  0.0  0.0  0.0  1.0  0.0  0.0  \n",
      "2  0.0  0.0  0.0  0.0  0.0  0.0  0.0  1.0  \n",
      "3  0.0  0.0  0.0  0.0  0.0  0.0  0.0  1.0  \n",
      "4  0.0  0.0  0.0  0.0  0.0  0.0  0.0  1.0  \n",
      "\n",
      "[5 rows x 303 columns]\n"
     ]
    }
   ],
   "source": [
    "# impute nans using mode value\n",
    "\n",
    "imputer = Imputer(missing_values='NaN',strategy='most_frequent',axis=0)\n",
    "\n",
    "azdias = imputer.fit_transform(azdias)\n",
    "azdias = pd.DataFrame(azdias)\n",
    "print('imputed azdias: ', azdias.head(5))\n",
    "\n",
    "customers = imputer.fit_transform(customers)\n",
    "customers = pd.DataFrame(customers)\n",
    "print('imputed customers: ', customers.head(5))"
   ]
  },
  {
   "cell_type": "code",
   "execution_count": 32,
   "metadata": {},
   "outputs": [
    {
     "name": "stdout",
     "output_type": "stream",
     "text": [
      "number of rows in new dataset:  (733227, 284)\n",
      "number of rows in new dataset:  (191652, 303)\n"
     ]
    }
   ],
   "source": [
    "print('number of rows in new dataset: ',azdias.shape)\n",
    "print('number of rows in new dataset: ',customers.shape)"
   ]
  },
  {
   "cell_type": "code",
   "execution_count": 33,
   "metadata": {},
   "outputs": [],
   "source": [
    "# convert to int\n",
    "azdias = azdias.astype(int)\n",
    "customers = customers.astype(int)"
   ]
  },
  {
   "cell_type": "markdown",
   "metadata": {},
   "source": [
    "## Remove outlier data"
   ]
  },
  {
   "cell_type": "code",
   "execution_count": 38,
   "metadata": {},
   "outputs": [],
   "source": [
    "#  remove all rows that have outliers in at least one column\n",
    "\n",
    "azdias = azdias[(np.abs(stats.zscore(azdias)) < 6).all(axis=1)]\n",
    "customers = customers[(np.abs(stats.zscore(customers)) < 6).all(axis=1)]"
   ]
  },
  {
   "cell_type": "code",
   "execution_count": 39,
   "metadata": {},
   "outputs": [
    {
     "name": "stdout",
     "output_type": "stream",
     "text": [
      "number of rows in new dataset:  (415405, 284)\n",
      "number of rows in new dataset:  (100341, 303)\n"
     ]
    }
   ],
   "source": [
    "print('number of rows in new dataset: ',azdias.shape)\n",
    "print('number of rows in new dataset: ',customers.shape)"
   ]
  },
  {
   "cell_type": "code",
   "execution_count": 40,
   "metadata": {},
   "outputs": [
    {
     "data": {
      "text/html": [
       "<div>\n",
       "<style scoped>\n",
       "    .dataframe tbody tr th:only-of-type {\n",
       "        vertical-align: middle;\n",
       "    }\n",
       "\n",
       "    .dataframe tbody tr th {\n",
       "        vertical-align: top;\n",
       "    }\n",
       "\n",
       "    .dataframe thead th {\n",
       "        text-align: right;\n",
       "    }\n",
       "</style>\n",
       "<table border=\"1\" class=\"dataframe\">\n",
       "  <thead>\n",
       "    <tr style=\"text-align: right;\">\n",
       "      <th></th>\n",
       "      <th>0</th>\n",
       "      <th>1</th>\n",
       "      <th>2</th>\n",
       "      <th>3</th>\n",
       "      <th>4</th>\n",
       "      <th>5</th>\n",
       "      <th>6</th>\n",
       "      <th>7</th>\n",
       "      <th>8</th>\n",
       "      <th>9</th>\n",
       "      <th>...</th>\n",
       "      <th>274</th>\n",
       "      <th>275</th>\n",
       "      <th>276</th>\n",
       "      <th>277</th>\n",
       "      <th>278</th>\n",
       "      <th>279</th>\n",
       "      <th>280</th>\n",
       "      <th>281</th>\n",
       "      <th>282</th>\n",
       "      <th>283</th>\n",
       "    </tr>\n",
       "  </thead>\n",
       "  <tbody>\n",
       "    <tr>\n",
       "      <th>1</th>\n",
       "      <td>910225</td>\n",
       "      <td>-1</td>\n",
       "      <td>9</td>\n",
       "      <td>17</td>\n",
       "      <td>17</td>\n",
       "      <td>10</td>\n",
       "      <td>0</td>\n",
       "      <td>0</td>\n",
       "      <td>1</td>\n",
       "      <td>0</td>\n",
       "      <td>...</td>\n",
       "      <td>0</td>\n",
       "      <td>0</td>\n",
       "      <td>0</td>\n",
       "      <td>0</td>\n",
       "      <td>0</td>\n",
       "      <td>0</td>\n",
       "      <td>0</td>\n",
       "      <td>0</td>\n",
       "      <td>0</td>\n",
       "      <td>1</td>\n",
       "    </tr>\n",
       "    <tr>\n",
       "      <th>3</th>\n",
       "      <td>910241</td>\n",
       "      <td>-1</td>\n",
       "      <td>1</td>\n",
       "      <td>20</td>\n",
       "      <td>14</td>\n",
       "      <td>3</td>\n",
       "      <td>0</td>\n",
       "      <td>0</td>\n",
       "      <td>4</td>\n",
       "      <td>0</td>\n",
       "      <td>...</td>\n",
       "      <td>0</td>\n",
       "      <td>0</td>\n",
       "      <td>0</td>\n",
       "      <td>0</td>\n",
       "      <td>0</td>\n",
       "      <td>0</td>\n",
       "      <td>0</td>\n",
       "      <td>0</td>\n",
       "      <td>0</td>\n",
       "      <td>1</td>\n",
       "    </tr>\n",
       "    <tr>\n",
       "      <th>4</th>\n",
       "      <td>910244</td>\n",
       "      <td>3</td>\n",
       "      <td>1</td>\n",
       "      <td>10</td>\n",
       "      <td>10</td>\n",
       "      <td>5</td>\n",
       "      <td>0</td>\n",
       "      <td>0</td>\n",
       "      <td>1</td>\n",
       "      <td>0</td>\n",
       "      <td>...</td>\n",
       "      <td>1</td>\n",
       "      <td>0</td>\n",
       "      <td>0</td>\n",
       "      <td>0</td>\n",
       "      <td>0</td>\n",
       "      <td>0</td>\n",
       "      <td>0</td>\n",
       "      <td>0</td>\n",
       "      <td>0</td>\n",
       "      <td>1</td>\n",
       "    </tr>\n",
       "    <tr>\n",
       "      <th>5</th>\n",
       "      <td>910248</td>\n",
       "      <td>-1</td>\n",
       "      <td>9</td>\n",
       "      <td>0</td>\n",
       "      <td>9</td>\n",
       "      <td>4</td>\n",
       "      <td>0</td>\n",
       "      <td>0</td>\n",
       "      <td>1</td>\n",
       "      <td>0</td>\n",
       "      <td>...</td>\n",
       "      <td>0</td>\n",
       "      <td>0</td>\n",
       "      <td>0</td>\n",
       "      <td>0</td>\n",
       "      <td>0</td>\n",
       "      <td>0</td>\n",
       "      <td>0</td>\n",
       "      <td>0</td>\n",
       "      <td>0</td>\n",
       "      <td>1</td>\n",
       "    </tr>\n",
       "    <tr>\n",
       "      <th>6</th>\n",
       "      <td>910261</td>\n",
       "      <td>-1</td>\n",
       "      <td>1</td>\n",
       "      <td>14</td>\n",
       "      <td>14</td>\n",
       "      <td>6</td>\n",
       "      <td>0</td>\n",
       "      <td>0</td>\n",
       "      <td>1</td>\n",
       "      <td>0</td>\n",
       "      <td>...</td>\n",
       "      <td>0</td>\n",
       "      <td>0</td>\n",
       "      <td>0</td>\n",
       "      <td>0</td>\n",
       "      <td>0</td>\n",
       "      <td>0</td>\n",
       "      <td>0</td>\n",
       "      <td>0</td>\n",
       "      <td>0</td>\n",
       "      <td>1</td>\n",
       "    </tr>\n",
       "  </tbody>\n",
       "</table>\n",
       "<p>5 rows × 284 columns</p>\n",
       "</div>"
      ],
      "text/plain": [
       "      0    1    2    3    4    5    6    7    8    9   ...   274  275  276  \\\n",
       "1  910225   -1    9   17   17   10    0    0    1    0 ...     0    0    0   \n",
       "3  910241   -1    1   20   14    3    0    0    4    0 ...     0    0    0   \n",
       "4  910244    3    1   10   10    5    0    0    1    0 ...     1    0    0   \n",
       "5  910248   -1    9    0    9    4    0    0    1    0 ...     0    0    0   \n",
       "6  910261   -1    1   14   14    6    0    0    1    0 ...     0    0    0   \n",
       "\n",
       "   277  278  279  280  281  282  283  \n",
       "1    0    0    0    0    0    0    1  \n",
       "3    0    0    0    0    0    0    1  \n",
       "4    0    0    0    0    0    0    1  \n",
       "5    0    0    0    0    0    0    1  \n",
       "6    0    0    0    0    0    0    1  \n",
       "\n",
       "[5 rows x 284 columns]"
      ]
     },
     "execution_count": 40,
     "metadata": {},
     "output_type": "execute_result"
    }
   ],
   "source": [
    "azdias.head()"
   ]
  },
  {
   "cell_type": "markdown",
   "metadata": {},
   "source": [
    "## Standardize data\n"
   ]
  },
  {
   "cell_type": "code",
   "execution_count": 41,
   "metadata": {},
   "outputs": [],
   "source": [
    "# scale the data\n",
    "scale = StandardScaler(copy=False)\n",
    "\n",
    "#scale = MinMaxScaler(copy=False)\n",
    "azdias[azdias.columns] = scale.fit_transform(azdias)"
   ]
  },
  {
   "cell_type": "code",
   "execution_count": 42,
   "metadata": {},
   "outputs": [],
   "source": [
    "azdias.columns = azdias_columns"
   ]
  },
  {
   "cell_type": "code",
   "execution_count": 43,
   "metadata": {},
   "outputs": [
    {
     "data": {
      "text/plain": [
       "Index(['LNR', 'AGER_TYP', 'AKT_DAT_KL', 'ALTER_HH', 'ALTERSKATEGORIE_FEIN',\n",
       "       'ANZ_HAUSHALTE_AKTIV', 'ANZ_HH_TITEL', 'ANZ_KINDER', 'ANZ_PERSONEN',\n",
       "       'ANZ_TITEL',\n",
       "       ...\n",
       "       'CAMEO_DEU_2015_8C', 'CAMEO_DEU_2015_8D', 'CAMEO_DEU_2015_9A',\n",
       "       'CAMEO_DEU_2015_9B', 'CAMEO_DEU_2015_9C', 'CAMEO_DEU_2015_9D',\n",
       "       'CAMEO_DEU_2015_9E', 'CAMEO_DEU_2015_XX', 'OST_WEST_KZ_O',\n",
       "       'OST_WEST_KZ_W'],\n",
       "      dtype='object', length=284)"
      ]
     },
     "execution_count": 43,
     "metadata": {},
     "output_type": "execute_result"
    }
   ],
   "source": [
    "azdias_columns"
   ]
  },
  {
   "cell_type": "markdown",
   "metadata": {},
   "source": [
    "## Part 1: Customer Segmentation Report\n",
    "\n",
    "The main bulk of your analysis will come in this part of the project. Here, you should use unsupervised learning techniques to describe the relationship between the demographics of the company's existing customers and the general population of Germany. By the end of this part, you should be able to describe parts of the general population that are more likely to be part of the mail-order company's main customer base, and which parts of the general population are less so."
   ]
  },
  {
   "cell_type": "markdown",
   "metadata": {},
   "source": [
    "After data preprocessing step we could find that general population data (azdias) now has 415405 rows and 283 columns. Even though we have dropped not-so important features and outlier data, this is still high dimensional data and this is where we will be using Principal Component to reduce dimension."
   ]
  },
  {
   "cell_type": "markdown",
   "metadata": {},
   "source": [
    "#### Perform Dimensionality Reduction\n",
    "On the scaled data, dimensionality reduction techniques can now be applied.\n",
    "\n",
    "1. sklearn's PCA class will be used to apply principal component analysis on the data, thus finding the vectors of maximal variance in the data. To start, at least half the number of features will be set (so there's enough features to see the general trend in variability).\n",
    "2. The ratio of variance explained by each principal component as well as the cumulative variance explained will be checked by plotting the cumulative or sequential values using matplotlib's plot() function. Based on the findings, a value for the number of transformed features will be retained for the clustering part of the project.\n",
    "3. Once a choice for the number of components to keep has been made, the PCA instance will be re-fit to perform the decided-on transformation."
   ]
  },
  {
   "cell_type": "code",
   "execution_count": 77,
   "metadata": {},
   "outputs": [
    {
     "data": {
      "image/png": "[encoded data removed]",
      "text/plain": [
       "<matplotlib.figure.Figure at 0x7fe4044cf940>"
      ]
     },
     "metadata": {
      "needs_background": "light"
     },
     "output_type": "display_data"
    }
   ],
   "source": [
    "pca = PCA().fit(azdias)\n",
    "plt.figure(figsize=(20,10))\n",
    "plt.plot(np.cumsum(pca.explained_variance_ratio_))\n",
    "plt.xlabel('number of components')\n",
    "plt.ylabel('cumulative explained variance')\n",
    "plt.show()"
   ]
  },
  {
   "cell_type": "code",
   "execution_count": 78,
   "metadata": {},
   "outputs": [],
   "source": [
    "def print_weights(n):\n",
    "    '''\n",
    "    n: number of principal component\n",
    "    '''\n",
    "    components = pd.DataFrame(np.round(pca.components_[n - 1: n], 4), columns = azdias.keys())\n",
    "    components.index = ['Weights']\n",
    "    components = components.sort_values(by = 'Weights', axis = 1, ascending=False)\n",
    "    components = components.T\n",
    "    print(components)\n",
    "    return components"
   ]
  },
  {
   "cell_type": "markdown",
   "metadata": {},
   "source": [
    "With PCA we want to make our data has high variance. This way we do not lose critical information from dataset while reducing dimensions. Based on above chart we can see that at around 220 components, cumulative variance is still high. Let us reduce our data with 220 components"
   ]
  },
  {
   "cell_type": "code",
   "execution_count": 80,
   "metadata": {},
   "outputs": [],
   "source": [
    "def reduce_data(df,n=220):\n",
    "    pca = PCA(n_components=n).fit(df)\n",
    "    reduced_data = pca.transform(df)\n",
    "    reduced_data = pd.DataFrame(reduced_data)\n",
    "    print(pca.explained_variance_ratio_.sum())\n",
    "    return reduced_data"
   ]
  },
  {
   "cell_type": "code",
   "execution_count": 81,
   "metadata": {},
   "outputs": [
    {
     "name": "stdout",
     "output_type": "stream",
     "text": [
      "0.98630971121\n",
      "0.999999999483\n"
     ]
    }
   ],
   "source": [
    "reduced_azdias = reduce_data(azdias)\n",
    "reduced_customers = reduce_data(customers)"
   ]
  },
  {
   "cell_type": "code",
   "execution_count": 82,
   "metadata": {},
   "outputs": [
    {
     "name": "stdout",
     "output_type": "stream",
     "text": [
      "number of rows in new dataset:  (415405, 220)\n",
      "number of rows in new dataset:  (100341, 220)\n"
     ]
    }
   ],
   "source": [
    "print('number of rows in new dataset: ',reduced_azdias.shape)\n",
    "print('number of rows in new dataset: ',reduced_customers.shape)"
   ]
  },
  {
   "cell_type": "markdown",
   "metadata": {},
   "source": [
    "## Clustering"
   ]
  },
  {
   "cell_type": "markdown",
   "metadata": {},
   "source": [
    "#### Apply Clustering to General Population\n",
    "With dimension now reduced, let's do clustering. To decide on number of clusters, we will try using elbow method, k-means clustering will be applied to the dataset and the average within-cluster distances from each point to their assigned cluster's centroid will be used to decide on a number of clusters to keep.\n",
    "\n",
    "1. sklearn's KMeans class will be used to perform k-means clustering on the PCA-transformed data.\n",
    "2. Then, the average difference from each point to its assigned cluster's center will be computed.\n",
    "3. The above two steps will be performed for a 30 different cluster counts to see how the average distance decreases with an increasing number of clusters.\n",
    "4. Once final number of clusters to use is selected, KMeans instance will be re-fit to perform the clustering operation."
   ]
  },
  {
   "cell_type": "code",
   "execution_count": 84,
   "metadata": {},
   "outputs": [],
   "source": [
    "def score(data, k):\n",
    "    kmeans_k = KMeans(k)\n",
    "    model_k = kmeans_k.fit(data)\n",
    "    return abs(model_k.score(data))"
   ]
  },
  {
   "cell_type": "code",
   "execution_count": 86,
   "metadata": {},
   "outputs": [
    {
     "data": {
      "text/plain": [
       "[<matplotlib.lines.Line2D at 0x7fe4000737f0>]"
      ]
     },
     "execution_count": 86,
     "metadata": {},
     "output_type": "execute_result"
    },
    {
     "data": {
      "image/png": "[encoded data removed]",
      "text/plain": [
       "<matplotlib.figure.Figure at 0x7fe40442ef60>"
      ]
     },
     "metadata": {
      "needs_background": "light"
     },
     "output_type": "display_data"
    }
   ],
   "source": [
    "scores = []\n",
    "for i in range(1, 21):\n",
    "    scores.append(score(reduced_azdias.sample(20000), i))\n",
    "centers = np.linspace(1,20,20)\n",
    "plt.plot(centers, scores, linestyle='-', marker='8', color='blue')"
   ]
  },
  {
   "cell_type": "code",
   "execution_count": 87,
   "metadata": {},
   "outputs": [
    {
     "data": {
      "text/plain": [
       "Text(0.5,0,'Number of Clusters')"
      ]
     },
     "execution_count": 87,
     "metadata": {},
     "output_type": "execute_result"
    },
    {
     "data": {
      "image/png": "[encoded data removed]",
      "text/plain": [
       "<matplotlib.figure.Figure at 0x7fe40442eac8>"
      ]
     },
     "metadata": {
      "needs_background": "light"
     },
     "output_type": "display_data"
    }
   ],
   "source": [
    "centers = np.linspace(1,20,20)\n",
    "plt.figure(figsize=(14,6))\n",
    "plt.plot(centers, scores, linestyle='-', marker='8', color='blue')\n",
    "plt.xticks(list(range(1,22,2)))\n",
    "plt.ylabel('Average Within-Cluster Distances')\n",
    "plt.xlabel('Number of Clusters')"
   ]
  },
  {
   "cell_type": "code",
   "execution_count": 88,
   "metadata": {},
   "outputs": [],
   "source": [
    "#from above chart we can see that at around 12 clusters, average distance within cluster almost flattens. \n",
    "#We will use 12 as number of clusters\n",
    "\n",
    "kmeans_k = KMeans(12)\n",
    "model_k = kmeans_k.fit(reduced_azdias)\n",
    "prediction_azdias = model_k.predict(reduced_azdias)"
   ]
  },
  {
   "cell_type": "code",
   "execution_count": 89,
   "metadata": {},
   "outputs": [],
   "source": [
    "azdias_clustered = pd.DataFrame(prediction _azdias, columns = ['Cluster'])\n",
    "azdias_clustered.to_pickle('azdias_clustered')"
   ]
  },
  {
   "cell_type": "code",
   "execution_count": 90,
   "metadata": {},
   "outputs": [],
   "source": [
    "prediction_customers = model_k.predict(reduced_customers)\n",
    "customers_clustered = pd.DataFrame(prediction_customers, columns = ['Cluster'])\n",
    "customers_clustered.to_pickle('customers_clustered')"
   ]
  },
  {
   "cell_type": "markdown",
   "metadata": {},
   "source": [
    "#### Compare Customer Data to Demographics Data"
   ]
  },
  {
   "cell_type": "markdown",
   "metadata": {},
   "source": [
    "At this point, there are clustered data based on demographics of the general population of Germany, and the customer data for a mail-order sales company has been mapped onto those demographic clusters. In this final substep, the two cluster distributions will be compared to see where the strongest customer base for the company is."
   ]
  },
  {
   "cell_type": "code",
   "execution_count": 101,
   "metadata": {},
   "outputs": [
    {
     "data": {
      "image/png": "[encoded data removed]",
      "text/plain": [
       "<matplotlib.figure.Figure at 0x7fe3ffefdd30>"
      ]
     },
     "metadata": {
      "needs_background": "light"
     },
     "output_type": "display_data"
    }
   ],
   "source": [
    "fig, ax = plt.subplots(figsize=(12,8))\n",
    "show_proportion(azdias_clustered, title='Proportion of Each Cluster for the General Population')"
   ]
  },
  {
   "cell_type": "code",
   "execution_count": 102,
   "metadata": {},
   "outputs": [
    {
     "data": {
      "image/png": "[encoded data removed]",
      "text/plain": [
       "<matplotlib.figure.Figure at 0x7fe3ffcd20f0>"
      ]
     },
     "metadata": {
      "needs_background": "light"
     },
     "output_type": "display_data"
    }
   ],
   "source": [
    "fig, ax = plt.subplots(figsize=(12,8))\n",
    "show_proportion(azdias_clustered, title='Proportion of Each Cluster for the Customer Data')"
   ]
  },
  {
   "cell_type": "markdown",
   "metadata": {},
   "source": [
    "##### Analysis of data in clusters and also comparison between clusters of general population and customer data\n"
   ]
  },
  {
   "cell_type": "code",
   "execution_count": 105,
   "metadata": {},
   "outputs": [],
   "source": [
    "# Count number of predictions for each customer segment# Count n \n",
    "customer_clusters = pd.Series(prediction_customers)\n",
    "cc = customer_clusters.value_counts().sort_index()\n",
    "# Count number in each population segment\n",
    "population_clusters = pd.Series(prediction_azdias)\n",
    "pc = population_clusters.value_counts().sort_index()"
   ]
  },
  {
   "cell_type": "code",
   "execution_count": 106,
   "metadata": {},
   "outputs": [
    {
     "data": {
      "text/html": [
       "<div>\n",
       "<style scoped>\n",
       "    .dataframe tbody tr th:only-of-type {\n",
       "        vertical-align: middle;\n",
       "    }\n",
       "\n",
       "    .dataframe tbody tr th {\n",
       "        vertical-align: top;\n",
       "    }\n",
       "\n",
       "    .dataframe thead th {\n",
       "        text-align: right;\n",
       "    }\n",
       "</style>\n",
       "<table border=\"1\" class=\"dataframe\">\n",
       "  <thead>\n",
       "    <tr style=\"text-align: right;\">\n",
       "      <th></th>\n",
       "      <th>cluster</th>\n",
       "      <th>population</th>\n",
       "      <th>customer</th>\n",
       "      <th>difference</th>\n",
       "    </tr>\n",
       "  </thead>\n",
       "  <tbody>\n",
       "    <tr>\n",
       "      <th>0</th>\n",
       "      <td>0</td>\n",
       "      <td>37883</td>\n",
       "      <td>NaN</td>\n",
       "      <td>NaN</td>\n",
       "    </tr>\n",
       "    <tr>\n",
       "      <th>1</th>\n",
       "      <td>1</td>\n",
       "      <td>29125</td>\n",
       "      <td>NaN</td>\n",
       "      <td>NaN</td>\n",
       "    </tr>\n",
       "    <tr>\n",
       "      <th>2</th>\n",
       "      <td>2</td>\n",
       "      <td>33243</td>\n",
       "      <td>1101.0</td>\n",
       "      <td>-6.905293</td>\n",
       "    </tr>\n",
       "    <tr>\n",
       "      <th>3</th>\n",
       "      <td>3</td>\n",
       "      <td>26364</td>\n",
       "      <td>308.0</td>\n",
       "      <td>-6.039624</td>\n",
       "    </tr>\n",
       "    <tr>\n",
       "      <th>4</th>\n",
       "      <td>4</td>\n",
       "      <td>45486</td>\n",
       "      <td>NaN</td>\n",
       "      <td>NaN</td>\n",
       "    </tr>\n",
       "    <tr>\n",
       "      <th>5</th>\n",
       "      <td>5</td>\n",
       "      <td>34694</td>\n",
       "      <td>5752.0</td>\n",
       "      <td>-2.619397</td>\n",
       "    </tr>\n",
       "    <tr>\n",
       "      <th>6</th>\n",
       "      <td>6</td>\n",
       "      <td>25778</td>\n",
       "      <td>48822.0</td>\n",
       "      <td>42.450572</td>\n",
       "    </tr>\n",
       "    <tr>\n",
       "      <th>7</th>\n",
       "      <td>7</td>\n",
       "      <td>37021</td>\n",
       "      <td>NaN</td>\n",
       "      <td>NaN</td>\n",
       "    </tr>\n",
       "    <tr>\n",
       "      <th>8</th>\n",
       "      <td>8</td>\n",
       "      <td>44496</td>\n",
       "      <td>NaN</td>\n",
       "      <td>NaN</td>\n",
       "    </tr>\n",
       "    <tr>\n",
       "      <th>9</th>\n",
       "      <td>9</td>\n",
       "      <td>30596</td>\n",
       "      <td>44147.0</td>\n",
       "      <td>36.631628</td>\n",
       "    </tr>\n",
       "    <tr>\n",
       "      <th>10</th>\n",
       "      <td>10</td>\n",
       "      <td>43924</td>\n",
       "      <td>NaN</td>\n",
       "      <td>NaN</td>\n",
       "    </tr>\n",
       "    <tr>\n",
       "      <th>11</th>\n",
       "      <td>11</td>\n",
       "      <td>26795</td>\n",
       "      <td>211.0</td>\n",
       "      <td>-6.240049</td>\n",
       "    </tr>\n",
       "  </tbody>\n",
       "</table>\n",
       "</div>"
      ],
      "text/plain": [
       "    cluster  population  customer  difference\n",
       "0         0       37883       NaN         NaN\n",
       "1         1       29125       NaN         NaN\n",
       "2         2       33243    1101.0   -6.905293\n",
       "3         3       26364     308.0   -6.039624\n",
       "4         4       45486       NaN         NaN\n",
       "5         5       34694    5752.0   -2.619397\n",
       "6         6       25778   48822.0   42.450572\n",
       "7         7       37021       NaN         NaN\n",
       "8         8       44496       NaN         NaN\n",
       "9         9       30596   44147.0   36.631628\n",
       "10       10       43924       NaN         NaN\n",
       "11       11       26795     211.0   -6.240049"
      ]
     },
     "execution_count": 106,
     "metadata": {},
     "output_type": "execute_result"
    }
   ],
   "source": [
    "# Create a dataframe from population and customer segments\n",
    "df_stat = pd.concat([pc, cc], axis=1).reset_index()\n",
    "df_stat.columns = ['cluster','population','customer']\n",
    "\n",
    "df_stat['difference'] = (df_stat['customer']/df_stat['customer'].sum()*100) - (df_stat['population']/df_stat['population'].sum()*100)\n",
    "df_stat"
   ]
  },
  {
   "cell_type": "code",
   "execution_count": 112,
   "metadata": {},
   "outputs": [
    {
     "data": {
      "image/png": "[encoded data removed]",
      "text/plain": [
       "<matplotlib.figure.Figure at 0x7fe3ffc3f630>"
      ]
     },
     "metadata": {
      "needs_background": "light"
     },
     "output_type": "display_data"
    }
   ],
   "source": [
    "# Compare the proportion of data in each cluster for the customer data to the\n",
    "# proportion of data in each cluster for the general population.\n",
    "# Add ratio and ratio difference for each cluster to the dataframe\n",
    "df_stat['pop_percent'] = (df_stat['population']/df_stat['population'].sum()*100).round(2)\n",
    "df_stat['cust_percent'] = (df_stat['customer']/df_stat['customer'].sum()*100).round(2)\n",
    "\n",
    "\n",
    "fig = plt.figure(figsize=(12,5))\n",
    "\n",
    "ax = fig.add_subplot(111)\n",
    "ax = df_stat['pop_percent'].plot(x=df_stat['cluster'],width=-0.3,align='edge',color='red',kind='bar',position=0)\n",
    "ax = df_stat['cust_percent'].plot(kind='bar',color='blue',width = 0.3, align='edge',position=1)\n",
    "ax.set_xlabel('Clusters', fontsize=15) \n",
    "ax.set_ylabel('Ratio %', fontsize=15)\n",
    "ax.xaxis.set(ticklabels=range(20))\n",
    "ax.tick_params(axis = 'x', which = 'major', labelsize = 13)\n",
    "ax.margins(x=0.5,y=0.1)\n",
    "\n",
    "plt.legend(('Gen Population', 'Customer'),fontsize=15)\n",
    "plt.title(('Ratio of Gen Population Vs Customer segments as % of total per cluster'))\n",
    "plt.show()"
   ]
  },
  {
   "cell_type": "code",
   "execution_count": 113,
   "metadata": {},
   "outputs": [],
   "source": [
    "# Show Highest Positive and Negative weights when a PComponent and Weight is passed\n",
    "def pca_weights(pc,weight_num):\n",
    "    \n",
    "    ratio = pd.DataFrame(pca.explained_variance_ratio_,columns = ['EXPLAINED_VARIANCE'])\n",
    "    ratio = ratio.round(3)\n",
    "    weights = pd.DataFrame(pca.components_, columns = azdias.columns.values)\n",
    "    weights = weights.round(3)    \n",
    "    \n",
    "    result = pd.concat([ratio, weights], axis = 1,  join_axes=[ratio.index])\n",
    "    result[:5]\n",
    "    print(\"Principal Component: \", (pc))    \n",
    "    print('\\n')\n",
    "    print(\"Highest Positive weights:\")\n",
    "    print(result.iloc[(pc)-1].sort_values(ascending=False)[:weight_num])\n",
    "    print('\\n')\n",
    "    print(\"Negative weights:\")\n",
    "    print(result.iloc[(pc)-1].sort_values()[:weight_num])"
   ]
  },
  {
   "cell_type": "code",
   "execution_count": 114,
   "metadata": {},
   "outputs": [
    {
     "name": "stdout",
     "output_type": "stream",
     "text": [
      "Principal Component:  5\n",
      "\n",
      "\n",
      "Highest Positive weights:\n",
      "KBA13_KW_0_60          0.227\n",
      "KBA13_KMH_180          0.187\n",
      "KBA13_CCM_0_1400       0.184\n",
      "OST_WEST_KZ_W          0.170\n",
      "KBA13_SEG_MINIWAGEN    0.156\n",
      "Name: 4, dtype: float64\n",
      "\n",
      "\n",
      "Negative weights:\n",
      "KBA13_KMH_210            -0.210\n",
      "KBA13_CCM_1401_2500      -0.172\n",
      "OST_WEST_KZ_O            -0.170\n",
      "KBA13_CCM_2000           -0.131\n",
      "KBA13_SEG_MITTELKLASSE   -0.121\n",
      "Name: 4, dtype: float64\n"
     ]
    }
   ],
   "source": [
    "# Show highest positive and negative weights for 5 cluster (over representation of Customer)\n",
    "pca_weights(5,5)"
   ]
  },
  {
   "cell_type": "code",
   "execution_count": 115,
   "metadata": {},
   "outputs": [
    {
     "name": "stdout",
     "output_type": "stream",
     "text": [
      "Principal Component:  10\n",
      "\n",
      "\n",
      "Highest Positive weights:\n",
      "KBA05_MAXSEG     0.282\n",
      "KBA05_KRSOBER    0.213\n",
      "KBA05_CCM3       0.193\n",
      "KBA05_HERST1     0.181\n",
      "KBA05_KW2        0.167\n",
      "Name: 9, dtype: float64\n",
      "\n",
      "\n",
      "Negative weights:\n",
      "KBA05_CCM1        -0.245\n",
      "KBA05_MODTEMP     -0.219\n",
      "KBA05_HERST3      -0.150\n",
      "OST_WEST_KZ_W     -0.139\n",
      "KBA05_HERSTTEMP   -0.137\n",
      "Name: 9, dtype: float64\n"
     ]
    }
   ],
   "source": [
    "# Show lowest positive and negative weights for 10 cluster (under representation of Customer)\n",
    "pca_weights(10,5)"
   ]
  },
  {
   "cell_type": "markdown",
   "metadata": {},
   "source": [
    "# Part 2: Supervised Learning Model"
   ]
  },
  {
   "cell_type": "markdown",
   "metadata": {},
   "source": [
    "Now that you've found which parts of the population are more likely to be customers of the mail-order company, it's time to build a prediction model. Each of the rows in the \"MAILOUT\" data files represents an individual that was targeted for a mailout campaign. Ideally, we should be able to use the demographic information from each individual to decide whether or not it will be worth it to include that person in the campaign.\n",
    "\n",
    "The \"MAILOUT\" data has been split into two approximately equal parts, each with almost 43 000 data rows. In this part, you can verify your model with the \"TRAIN\" partition, which includes a column, \"RESPONSE\", that states whether or not a person became a customer of the company following the campaign. In the next part, you'll need to create predictions on the \"TEST\" partition, where the \"RESPONSE\" column has been withheld."
   ]
  },
  {
   "cell_type": "code",
   "execution_count": 182,
   "metadata": {},
   "outputs": [
    {
     "name": "stderr",
     "output_type": "stream",
     "text": [
      "/opt/conda/lib/python3.6/site-packages/IPython/core/interactiveshell.py:2785: DtypeWarning: Columns (18,19) have mixed types. Specify dtype option on import or set low_memory=False.\n",
      "  interactivity=interactivity, compiler=compiler, result=result)\n"
     ]
    }
   ],
   "source": [
    "mailout_train = pd.read_csv('../../data/Term2/capstone/arvato_data/Udacity_MAILOUT_052018_TRAIN.csv', sep=';')"
   ]
  },
  {
   "cell_type": "code",
   "execution_count": 117,
   "metadata": {},
   "outputs": [
    {
     "data": {
      "text/html": [
       "<div>\n",
       "<style scoped>\n",
       "    .dataframe tbody tr th:only-of-type {\n",
       "        vertical-align: middle;\n",
       "    }\n",
       "\n",
       "    .dataframe tbody tr th {\n",
       "        vertical-align: top;\n",
       "    }\n",
       "\n",
       "    .dataframe thead th {\n",
       "        text-align: right;\n",
       "    }\n",
       "</style>\n",
       "<table border=\"1\" class=\"dataframe\">\n",
       "  <thead>\n",
       "    <tr style=\"text-align: right;\">\n",
       "      <th></th>\n",
       "      <th>LNR</th>\n",
       "      <th>AGER_TYP</th>\n",
       "      <th>AKT_DAT_KL</th>\n",
       "      <th>ALTER_HH</th>\n",
       "      <th>ALTER_KIND1</th>\n",
       "      <th>ALTER_KIND2</th>\n",
       "      <th>ALTER_KIND3</th>\n",
       "      <th>ALTER_KIND4</th>\n",
       "      <th>ALTERSKATEGORIE_FEIN</th>\n",
       "      <th>ANZ_HAUSHALTE_AKTIV</th>\n",
       "      <th>...</th>\n",
       "      <th>VK_DHT4A</th>\n",
       "      <th>VK_DISTANZ</th>\n",
       "      <th>VK_ZG11</th>\n",
       "      <th>W_KEIT_KIND_HH</th>\n",
       "      <th>WOHNDAUER_2008</th>\n",
       "      <th>WOHNLAGE</th>\n",
       "      <th>ZABEOTYP</th>\n",
       "      <th>RESPONSE</th>\n",
       "      <th>ANREDE_KZ</th>\n",
       "      <th>ALTERSKATEGORIE_GROB</th>\n",
       "    </tr>\n",
       "  </thead>\n",
       "  <tbody>\n",
       "    <tr>\n",
       "      <th>0</th>\n",
       "      <td>1763</td>\n",
       "      <td>2</td>\n",
       "      <td>1.0</td>\n",
       "      <td>8.0</td>\n",
       "      <td>NaN</td>\n",
       "      <td>NaN</td>\n",
       "      <td>NaN</td>\n",
       "      <td>NaN</td>\n",
       "      <td>8.0</td>\n",
       "      <td>15.0</td>\n",
       "      <td>...</td>\n",
       "      <td>5.0</td>\n",
       "      <td>2.0</td>\n",
       "      <td>1.0</td>\n",
       "      <td>6.0</td>\n",
       "      <td>9.0</td>\n",
       "      <td>3.0</td>\n",
       "      <td>3</td>\n",
       "      <td>0</td>\n",
       "      <td>2</td>\n",
       "      <td>4</td>\n",
       "    </tr>\n",
       "    <tr>\n",
       "      <th>1</th>\n",
       "      <td>1771</td>\n",
       "      <td>1</td>\n",
       "      <td>4.0</td>\n",
       "      <td>13.0</td>\n",
       "      <td>NaN</td>\n",
       "      <td>NaN</td>\n",
       "      <td>NaN</td>\n",
       "      <td>NaN</td>\n",
       "      <td>13.0</td>\n",
       "      <td>1.0</td>\n",
       "      <td>...</td>\n",
       "      <td>1.0</td>\n",
       "      <td>2.0</td>\n",
       "      <td>1.0</td>\n",
       "      <td>4.0</td>\n",
       "      <td>9.0</td>\n",
       "      <td>7.0</td>\n",
       "      <td>1</td>\n",
       "      <td>0</td>\n",
       "      <td>2</td>\n",
       "      <td>3</td>\n",
       "    </tr>\n",
       "    <tr>\n",
       "      <th>2</th>\n",
       "      <td>1776</td>\n",
       "      <td>1</td>\n",
       "      <td>1.0</td>\n",
       "      <td>9.0</td>\n",
       "      <td>NaN</td>\n",
       "      <td>NaN</td>\n",
       "      <td>NaN</td>\n",
       "      <td>NaN</td>\n",
       "      <td>7.0</td>\n",
       "      <td>0.0</td>\n",
       "      <td>...</td>\n",
       "      <td>6.0</td>\n",
       "      <td>4.0</td>\n",
       "      <td>2.0</td>\n",
       "      <td>NaN</td>\n",
       "      <td>9.0</td>\n",
       "      <td>2.0</td>\n",
       "      <td>3</td>\n",
       "      <td>0</td>\n",
       "      <td>1</td>\n",
       "      <td>4</td>\n",
       "    </tr>\n",
       "    <tr>\n",
       "      <th>3</th>\n",
       "      <td>1460</td>\n",
       "      <td>2</td>\n",
       "      <td>1.0</td>\n",
       "      <td>6.0</td>\n",
       "      <td>NaN</td>\n",
       "      <td>NaN</td>\n",
       "      <td>NaN</td>\n",
       "      <td>NaN</td>\n",
       "      <td>6.0</td>\n",
       "      <td>4.0</td>\n",
       "      <td>...</td>\n",
       "      <td>8.0</td>\n",
       "      <td>11.0</td>\n",
       "      <td>11.0</td>\n",
       "      <td>6.0</td>\n",
       "      <td>9.0</td>\n",
       "      <td>1.0</td>\n",
       "      <td>3</td>\n",
       "      <td>0</td>\n",
       "      <td>2</td>\n",
       "      <td>4</td>\n",
       "    </tr>\n",
       "    <tr>\n",
       "      <th>4</th>\n",
       "      <td>1783</td>\n",
       "      <td>2</td>\n",
       "      <td>1.0</td>\n",
       "      <td>9.0</td>\n",
       "      <td>NaN</td>\n",
       "      <td>NaN</td>\n",
       "      <td>NaN</td>\n",
       "      <td>NaN</td>\n",
       "      <td>9.0</td>\n",
       "      <td>53.0</td>\n",
       "      <td>...</td>\n",
       "      <td>2.0</td>\n",
       "      <td>2.0</td>\n",
       "      <td>1.0</td>\n",
       "      <td>6.0</td>\n",
       "      <td>9.0</td>\n",
       "      <td>3.0</td>\n",
       "      <td>3</td>\n",
       "      <td>0</td>\n",
       "      <td>1</td>\n",
       "      <td>3</td>\n",
       "    </tr>\n",
       "  </tbody>\n",
       "</table>\n",
       "<p>5 rows × 367 columns</p>\n",
       "</div>"
      ],
      "text/plain": [
       "    LNR  AGER_TYP  AKT_DAT_KL  ALTER_HH  ALTER_KIND1  ALTER_KIND2  \\\n",
       "0  1763         2         1.0       8.0          NaN          NaN   \n",
       "1  1771         1         4.0      13.0          NaN          NaN   \n",
       "2  1776         1         1.0       9.0          NaN          NaN   \n",
       "3  1460         2         1.0       6.0          NaN          NaN   \n",
       "4  1783         2         1.0       9.0          NaN          NaN   \n",
       "\n",
       "   ALTER_KIND3  ALTER_KIND4  ALTERSKATEGORIE_FEIN  ANZ_HAUSHALTE_AKTIV  \\\n",
       "0          NaN          NaN                   8.0                 15.0   \n",
       "1          NaN          NaN                  13.0                  1.0   \n",
       "2          NaN          NaN                   7.0                  0.0   \n",
       "3          NaN          NaN                   6.0                  4.0   \n",
       "4          NaN          NaN                   9.0                 53.0   \n",
       "\n",
       "          ...           VK_DHT4A  VK_DISTANZ  VK_ZG11  W_KEIT_KIND_HH  \\\n",
       "0         ...                5.0         2.0      1.0             6.0   \n",
       "1         ...                1.0         2.0      1.0             4.0   \n",
       "2         ...                6.0         4.0      2.0             NaN   \n",
       "3         ...                8.0        11.0     11.0             6.0   \n",
       "4         ...                2.0         2.0      1.0             6.0   \n",
       "\n",
       "   WOHNDAUER_2008  WOHNLAGE  ZABEOTYP RESPONSE ANREDE_KZ ALTERSKATEGORIE_GROB  \n",
       "0             9.0       3.0         3        0         2                    4  \n",
       "1             9.0       7.0         1        0         2                    3  \n",
       "2             9.0       2.0         3        0         1                    4  \n",
       "3             9.0       1.0         3        0         2                    4  \n",
       "4             9.0       3.0         3        0         1                    3  \n",
       "\n",
       "[5 rows x 367 columns]"
      ]
     },
     "execution_count": 117,
     "metadata": {},
     "output_type": "execute_result"
    }
   ],
   "source": [
    "mailout_train.head()"
   ]
  },
  {
   "cell_type": "code",
   "execution_count": 118,
   "metadata": {},
   "outputs": [
    {
     "name": "stdout",
     "output_type": "stream",
     "text": [
      "Total number of records: 42962\n",
      "Individuals who became customers: 532\n",
      "Individuals who did not become customers: 42430\n",
      "Percentage of individuals who became customers: 1.2383036171500394%\n"
     ]
    }
   ],
   "source": [
    "# Total number of records\n",
    "n_records = mailout_train.shape[0]\n",
    "\n",
    "# Number of records where the individual became a customer\n",
    "n_customer = mailout_train[mailout_train['RESPONSE'] == 1].shape[0]\n",
    "\n",
    "# Number of records where individual did not become a customer\n",
    "n_not_customer = mailout_train[mailout_train['RESPONSE'] == 0].shape[0]\n",
    "\n",
    "# Percentage of individuals who became customers\n",
    "customer_perc = (n_customer / n_records) * 100\n",
    "\n",
    "# Print the results\n",
    "print(\"Total number of records: {}\".format(n_records))\n",
    "print(\"Individuals who became customers: {}\".format(n_customer))\n",
    "print(\"Individuals who did not become customers: {}\".format(n_not_customer))\n",
    "print(\"Percentage of individuals who became customers: {}%\".format(customer_perc))"
   ]
  },
  {
   "cell_type": "code",
   "execution_count": 119,
   "metadata": {},
   "outputs": [
    {
     "data": {
      "text/plain": [
       "<matplotlib.axes._subplots.AxesSubplot at 0x7fe3ffc1c128>"
      ]
     },
     "execution_count": 119,
     "metadata": {},
     "output_type": "execute_result"
    },
    {
     "data": {
      "image/png": "[encoded data removed]",
      "text/plain": [
       "<matplotlib.figure.Figure at 0x7fe4043faf98>"
      ]
     },
     "metadata": {
      "needs_background": "light"
     },
     "output_type": "display_data"
    }
   ],
   "source": [
    "sns.countplot(\"RESPONSE\",data=mailout_train)"
   ]
  },
  {
   "cell_type": "markdown",
   "metadata": {},
   "source": [
    "#### Out of all the 42,962 individuals in the mailout campaign, only 1.24% of the individuals became customers. The dataset is highly imbalanced because of the disproportionate amount of customers and non-customers."
   ]
  },
  {
   "cell_type": "code",
   "execution_count": 183,
   "metadata": {},
   "outputs": [],
   "source": [
    "X = mailout_train.drop('RESPONSE',axis=1)\n",
    "y = mailout_train['RESPONSE']"
   ]
  },
  {
   "cell_type": "markdown",
   "metadata": {},
   "source": [
    "### Preparing the Data\n",
    "Before the imbalanced dataset can be used as input for machine learning algorithms, it often must be cleaned, formatted, and restructured — this is typically known as preprocessing. Fortunately, the features are similar to the general population dataset and the customers dataset."
   ]
  },
  {
   "cell_type": "code",
   "execution_count": 163,
   "metadata": {},
   "outputs": [],
   "source": [
    "def data_preproces(df, for_clustering, df_name=None):\n",
    "    \n",
    "    if for_clustering:\n",
    "        if df_name == 'azdias':\n",
    "            df = df[df.isnull().sum(axis=1) <= 16].reset_index(drop=True)\n",
    "        elif df_name == 'customers':            \n",
    "            df.drop(columns=['CUSTOMER_GROUP', 'ONLINE_PURCHASE', 'PRODUCT_GROUP'], inplace=True)\n",
    "        \n",
    "    #column_nans = df.isnull().mean()\n",
    "    drop_cols = ['ALTER_KIND1', 'ALTER_KIND2', 'ALTER_KIND3', 'ALTER_KIND4', 'EXTSEL992','KK_KUNDENTYP']\n",
    "    \n",
    "    df = df.drop(drop_cols,axis=1)\n",
    "    df = df.drop(['EINGEFUEGT_AM'],axis=1)\n",
    "    df = df.drop(['D19_LETZTER_KAUF_BRANCHE'],axis=1)\n",
    "\n",
    "\n",
    "    # find correlation matrix    \n",
    "    corr_matrix = df.corr().abs()\n",
    "    upper_limit = corr_matrix.where(np.triu(np.ones(corr_matrix.shape), k=1).astype(np.bool))\n",
    "    # identify columns to drop based on threshold limit\n",
    "    drop_columns = [column for column in upper_limit.columns if any(upper_limit[column] > .7)]\n",
    "    # drop columns from df\n",
    "    df = df.drop(drop_columns, axis=1)\n",
    "    print('shape after corr', df.shape)\n",
    "\n",
    "\n",
    "    # we need to fill missing values here. We will fill missing values with -1 indicating unknown as in the description.\n",
    "    df[['CAMEO_DEUG_2015','CAMEO_INTL_2015']] = df[['CAMEO_DEUG_2015','CAMEO_INTL_2015']].replace(['X','XX'],-1)\n",
    "    df[['CAMEO_DEUG_2015','CAMEO_INTL_2015']] = df[['CAMEO_DEUG_2015','CAMEO_INTL_2015']].fillna(-1)\n",
    "    df[['CAMEO_DEUG_2015','CAMEO_INTL_2015']] = df[['CAMEO_DEUG_2015','CAMEO_INTL_2015']].astype(int)\n",
    "    df[['CAMEO_DEU_2015','OST_WEST_KZ']]=df[['CAMEO_DEU_2015','OST_WEST_KZ']].fillna(-1)\n",
    "\n",
    "\n",
    "\n",
    "    # fillna with 9 for fields that has 9 marked as unknown\n",
    "    df[df.columns[(df==9).any()]] = df[df.columns[(df==9).any()]].fillna(9)\n",
    "\n",
    "    # fillna with 0 for fields that has 0 marked as unknown\n",
    "    df[df.columns[(df==0).any()]] = df[df.columns[(df==0).any()]].fillna(0)\n",
    "\n",
    "    # fillna with -1 for fields that has 0 marked as unknown\n",
    "    df[df.columns[(df==-1).any()]] = df[df.columns[(df==-1).any()]].fillna(-1)\n",
    "\n",
    "\n",
    "    \n",
    "    #print('col name before: ', df.columns)\n",
    "    #with  all null data now handled, we should focus on getting objects/categorical variables to numbers via one hot encoding\n",
    "    df = pd.get_dummies(df)\n",
    "    #print('col name after: ', df.columns)\n",
    "    print('shape after one-hot', df.shape)\n",
    "    \n",
    "    df_columns = list(df.columns.values)\n",
    "\n",
    "    # impute nans using mode value\n",
    "    imputer = Imputer(missing_values='NaN',strategy='most_frequent',axis=0)\n",
    "    df = imputer.fit_transform(df)\n",
    "    df = pd.DataFrame(df)\n",
    "    #print('imputed dataframe: ', df.head(5))\n",
    "    print('shape after impute', df.shape)\n",
    "    \n",
    "    \n",
    "    \n",
    "    # convert to int\n",
    "    df = df.astype(int)\n",
    "\n",
    "\n",
    "    # detect and exclude outliers in dataframe\n",
    "    #  remove all rows that have outliers in at least one column   \n",
    "    if for_clustering:\n",
    "        print('inside outliers if')\n",
    "        df = df[(np.abs(stats.zscore(df)) < 6).all(axis=1)] \n",
    "        print('shape before scaling', df.shape)\n",
    "    # scale the data\n",
    "    scale = StandardScaler(copy=False)\n",
    "    scaled = scale.fit_transform(df)\n",
    "    df = pd.DataFrame(scaled,columns= df_columns)\n",
    "    print('shape after scaling', df.shape)\n",
    "    #else:\n",
    "    #    df.columns = df_columns\n",
    "        \n",
    "    df = df.set_index('LNR')\n",
    "    return df"
   ]
  },
  {
   "cell_type": "code",
   "execution_count": 184,
   "metadata": {},
   "outputs": [
    {
     "name": "stdout",
     "output_type": "stream",
     "text": [
      "shape after corr (42962, 253)\n",
      "shape after one-hot (42962, 300)\n",
      "shape after impute (42962, 300)\n",
      "shape after scaling (42962, 300)\n"
     ]
    }
   ],
   "source": [
    "# preprocess data\n",
    "df_mailout_train  = data_preprocess_2(X, False)"
   ]
  },
  {
   "cell_type": "code",
   "execution_count": 186,
   "metadata": {},
   "outputs": [],
   "source": [
    "# Split the dataset into Train/Validation/Test\n",
    "\n",
    "X_train, X_val, y_train, y_val = train_test_split(df_mailout_train, y, stratify=y, test_size=0.2, random_state=42)"
   ]
  },
  {
   "cell_type": "code",
   "execution_count": 187,
   "metadata": {},
   "outputs": [
    {
     "name": "stdout",
     "output_type": "stream",
     "text": [
      "[05:24:43] WARNING: /workspace/src/objective/regression_obj.cu:167: reg:linear is now deprecated in favor of reg:squarederror.\n"
     ]
    },
    {
     "data": {
      "text/plain": [
       "XGBRegressor(alpha=10, base_score=0.5, booster=None, colsample_bylevel=1,\n",
       "       colsample_bynode=1, colsample_bytree=0.3, gamma=0, gpu_id=-1,\n",
       "       importance_type='gain', interaction_constraints=None,\n",
       "       learning_rate=0.1, max_delta_step=0, max_depth=5,\n",
       "       min_child_weight=1, missing=nan, monotone_constraints=None,\n",
       "       n_estimators=10, n_jobs=0, num_parallel_tree=1,\n",
       "       objective='reg:linear', random_state=0, reg_alpha=10, reg_lambda=1,\n",
       "       scale_pos_weight=1, subsample=1, tree_method=None,\n",
       "       validate_parameters=False, verbosity=None)"
      ]
     },
     "execution_count": 187,
     "metadata": {},
     "output_type": "execute_result"
    }
   ],
   "source": [
    "xg_reg = xgb.XGBRegressor(objective ='reg:linear', colsample_bytree = 0.3, learning_rate = 0.1,\n",
    "                max_depth = 5, alpha = 10, n_estimators = 10)\n",
    "xg_reg.fit(X_train,y_train)"
   ]
  },
  {
   "cell_type": "code",
   "execution_count": 188,
   "metadata": {},
   "outputs": [],
   "source": [
    "preds = xg_reg.predict(X_val)"
   ]
  },
  {
   "cell_type": "markdown",
   "metadata": {},
   "source": [
    "#### Model Evaluation and Validation\n",
    "In terms of evaluation metric to use, I have tried accuracy, precision, recall and fscore but due to very high imbalance (i.e. In MAILOUT_TRAIN dataset, we can find among 43000 individuals, only 532 people response to the mail-out campaign which means the training data is highly imbalanced.), none of these were a good way to measure and then finalised on AUC and ROC as the evaluation metric to proceed"
   ]
  },
  {
   "cell_type": "code",
   "execution_count": 196,
   "metadata": {},
   "outputs": [],
   "source": [
    "from time import time \n",
    "\n",
    "def train_predict(learner, X_train, y_train, X_test, y_test): \n",
    "    '''\n",
    "    inputs:\n",
    "       - learner: the learning algorithm to be trained and predicted on\n",
    "       - sample_size: the size of samples (number) to be drawn from training set\n",
    "       - X_train: features training set\n",
    "       - y_train: income training set\n",
    "       - X_test: features testing set\n",
    "       - y_test: income testing set\n",
    "    '''\n",
    "    \n",
    "    results = {}\n",
    "    \n",
    "    \n",
    "    start = time() # Get start time\n",
    "    learner = learner.fit(X_train, y_train)\n",
    "    \n",
    "    start = time() # Get start time\n",
    "    predictions_test = learner.predict(X_test)\n",
    "    predictions_train = learner.predict(X_train)\n",
    "    \n",
    "    \n",
    "    roc = roc_auc_score(y_test, predictions_test)\n",
    "        \n",
    "    # Return the results\n",
    "    return roc"
   ]
  },
  {
   "cell_type": "code",
   "execution_count": 197,
   "metadata": {},
   "outputs": [
    {
     "data": {
      "text/plain": [
       "5"
      ]
     },
     "execution_count": 197,
     "metadata": {},
     "output_type": "execute_result"
    }
   ],
   "source": [
    "# Initialize 5 stratified folds\n",
    "skf = StratifiedKFold(n_splits=5, random_state=42)\n",
    "skf.get_n_splits(X, y)"
   ]
  },
  {
   "cell_type": "code",
   "execution_count": 198,
   "metadata": {},
   "outputs": [
    {
     "name": "stdout",
     "output_type": "stream",
     "text": [
      "{'alg_name': 'AdaBoostRegressor', 'fold': 1, 'roc': 0.7520605681485284}\n",
      "{'alg_name': 'AdaBoostRegressor', 'fold': 2, 'roc': 0.76112332351690848}\n",
      "{'alg_name': 'AdaBoostRegressor', 'fold': 3, 'roc': 0.78820888122056743}\n",
      "{'alg_name': 'AdaBoostRegressor', 'fold': 4, 'roc': 0.72870910578577819}\n",
      "{'alg_name': 'AdaBoostRegressor', 'fold': 5, 'roc': 0.73072796926347061}\n",
      "{'alg_name': 'GradientBoostingRegressor', 'fold': 1, 'roc': 0.73311512529708089}\n",
      "{'alg_name': 'GradientBoostingRegressor', 'fold': 2, 'roc': 0.75193446710469802}\n",
      "{'alg_name': 'GradientBoostingRegressor', 'fold': 3, 'roc': 0.80506516837943964}\n",
      "{'alg_name': 'GradientBoostingRegressor', 'fold': 4, 'roc': 0.73210648837819448}\n",
      "{'alg_name': 'GradientBoostingRegressor', 'fold': 5, 'roc': 0.75577588391979689}\n",
      "{'alg_name': 'XGBRegressor', 'fold': 1, 'roc': 0.5558291721824401}\n",
      "{'alg_name': 'XGBRegressor', 'fold': 2, 'roc': 0.60636375250274777}\n",
      "{'alg_name': 'XGBRegressor', 'fold': 3, 'roc': 0.65723789237767871}\n",
      "{'alg_name': 'XGBRegressor', 'fold': 4, 'roc': 0.6270071905335759}\n",
      "{'alg_name': 'XGBRegressor', 'fold': 5, 'roc': 0.58278952236536097}\n",
      "result_list:  [{'alg_name': 'AdaBoostRegressor', 'fold': 1, 'roc': 0.7520605681485284}, {'alg_name': 'AdaBoostRegressor', 'fold': 2, 'roc': 0.76112332351690848}, {'alg_name': 'AdaBoostRegressor', 'fold': 3, 'roc': 0.78820888122056743}, {'alg_name': 'AdaBoostRegressor', 'fold': 4, 'roc': 0.72870910578577819}, {'alg_name': 'AdaBoostRegressor', 'fold': 5, 'roc': 0.73072796926347061}, {'alg_name': 'GradientBoostingRegressor', 'fold': 1, 'roc': 0.73311512529708089}, {'alg_name': 'GradientBoostingRegressor', 'fold': 2, 'roc': 0.75193446710469802}, {'alg_name': 'GradientBoostingRegressor', 'fold': 3, 'roc': 0.80506516837943964}, {'alg_name': 'GradientBoostingRegressor', 'fold': 4, 'roc': 0.73210648837819448}, {'alg_name': 'GradientBoostingRegressor', 'fold': 5, 'roc': 0.75577588391979689}, {'alg_name': 'XGBRegressor', 'fold': 1, 'roc': 0.5558291721824401}, {'alg_name': 'XGBRegressor', 'fold': 2, 'roc': 0.60636375250274777}, {'alg_name': 'XGBRegressor', 'fold': 3, 'roc': 0.65723789237767871}, {'alg_name': 'XGBRegressor', 'fold': 4, 'roc': 0.6270071905335759}, {'alg_name': 'XGBRegressor', 'fold': 5, 'roc': 0.58278952236536097}]\n"
     ]
    }
   ],
   "source": [
    "alg_abr = AdaBoostRegressor(random_state=42)\n",
    "alg_gbr = GradientBoostingRegressor(random_state=42)\n",
    "alg_xgb = XGBRegressor(random_state=42)\n",
    "\n",
    "result_list = []\n",
    "for alg in [alg_abr, alg_gbr, alg_xgb]:\n",
    "    alg_name = alg.__class__.__name__\n",
    "    \n",
    "    j=0\n",
    "    for train_index, val_index in skf.split(df_mailout_train, y):\n",
    "    \n",
    "        j+=1\n",
    "        #print('Fold {}...'.format(j))\n",
    "        result = {}  \n",
    "        result['alg_name'] = alg_name\n",
    "        result['fold']  =  j\n",
    "        # Split the data into training and test sets\n",
    "        X_train, X_val = df_mailout_train.iloc[train_index], df_mailout_train.iloc[val_index]\n",
    "        y_train, y_val = y.iloc[train_index], y.iloc[val_index]\n",
    "        \n",
    "        \n",
    "        \n",
    "        result['roc'] = train_predict(alg, X_train, y_train, X_val, y_val)\n",
    "        result_list.append(result)\n",
    "        print (result)\n",
    "    \n",
    "#return result_list    \n",
    "\n",
    "print('result_list: ', result_list)"
   ]
  },
  {
   "cell_type": "code",
   "execution_count": 199,
   "metadata": {},
   "outputs": [
    {
     "data": {
      "text/html": [
       "<div>\n",
       "<style scoped>\n",
       "    .dataframe tbody tr th:only-of-type {\n",
       "        vertical-align: middle;\n",
       "    }\n",
       "\n",
       "    .dataframe tbody tr th {\n",
       "        vertical-align: top;\n",
       "    }\n",
       "\n",
       "    .dataframe thead th {\n",
       "        text-align: right;\n",
       "    }\n",
       "</style>\n",
       "<table border=\"1\" class=\"dataframe\">\n",
       "  <thead>\n",
       "    <tr style=\"text-align: right;\">\n",
       "      <th></th>\n",
       "      <th>alg_name</th>\n",
       "      <th>fold</th>\n",
       "      <th>roc</th>\n",
       "    </tr>\n",
       "  </thead>\n",
       "  <tbody>\n",
       "    <tr>\n",
       "      <th>0</th>\n",
       "      <td>AdaBoostRegressor</td>\n",
       "      <td>1</td>\n",
       "      <td>0.752061</td>\n",
       "    </tr>\n",
       "    <tr>\n",
       "      <th>1</th>\n",
       "      <td>AdaBoostRegressor</td>\n",
       "      <td>2</td>\n",
       "      <td>0.761123</td>\n",
       "    </tr>\n",
       "    <tr>\n",
       "      <th>2</th>\n",
       "      <td>AdaBoostRegressor</td>\n",
       "      <td>3</td>\n",
       "      <td>0.788209</td>\n",
       "    </tr>\n",
       "    <tr>\n",
       "      <th>3</th>\n",
       "      <td>AdaBoostRegressor</td>\n",
       "      <td>4</td>\n",
       "      <td>0.728709</td>\n",
       "    </tr>\n",
       "    <tr>\n",
       "      <th>4</th>\n",
       "      <td>AdaBoostRegressor</td>\n",
       "      <td>5</td>\n",
       "      <td>0.730728</td>\n",
       "    </tr>\n",
       "    <tr>\n",
       "      <th>5</th>\n",
       "      <td>GradientBoostingRegressor</td>\n",
       "      <td>1</td>\n",
       "      <td>0.733115</td>\n",
       "    </tr>\n",
       "    <tr>\n",
       "      <th>6</th>\n",
       "      <td>GradientBoostingRegressor</td>\n",
       "      <td>2</td>\n",
       "      <td>0.751934</td>\n",
       "    </tr>\n",
       "    <tr>\n",
       "      <th>7</th>\n",
       "      <td>GradientBoostingRegressor</td>\n",
       "      <td>3</td>\n",
       "      <td>0.805065</td>\n",
       "    </tr>\n",
       "    <tr>\n",
       "      <th>8</th>\n",
       "      <td>GradientBoostingRegressor</td>\n",
       "      <td>4</td>\n",
       "      <td>0.732106</td>\n",
       "    </tr>\n",
       "    <tr>\n",
       "      <th>9</th>\n",
       "      <td>GradientBoostingRegressor</td>\n",
       "      <td>5</td>\n",
       "      <td>0.755776</td>\n",
       "    </tr>\n",
       "    <tr>\n",
       "      <th>10</th>\n",
       "      <td>XGBRegressor</td>\n",
       "      <td>1</td>\n",
       "      <td>0.555829</td>\n",
       "    </tr>\n",
       "    <tr>\n",
       "      <th>11</th>\n",
       "      <td>XGBRegressor</td>\n",
       "      <td>2</td>\n",
       "      <td>0.606364</td>\n",
       "    </tr>\n",
       "    <tr>\n",
       "      <th>12</th>\n",
       "      <td>XGBRegressor</td>\n",
       "      <td>3</td>\n",
       "      <td>0.657238</td>\n",
       "    </tr>\n",
       "    <tr>\n",
       "      <th>13</th>\n",
       "      <td>XGBRegressor</td>\n",
       "      <td>4</td>\n",
       "      <td>0.627007</td>\n",
       "    </tr>\n",
       "    <tr>\n",
       "      <th>14</th>\n",
       "      <td>XGBRegressor</td>\n",
       "      <td>5</td>\n",
       "      <td>0.582790</td>\n",
       "    </tr>\n",
       "  </tbody>\n",
       "</table>\n",
       "</div>"
      ],
      "text/plain": [
       "                     alg_name  fold       roc\n",
       "0           AdaBoostRegressor     1  0.752061\n",
       "1           AdaBoostRegressor     2  0.761123\n",
       "2           AdaBoostRegressor     3  0.788209\n",
       "3           AdaBoostRegressor     4  0.728709\n",
       "4           AdaBoostRegressor     5  0.730728\n",
       "5   GradientBoostingRegressor     1  0.733115\n",
       "6   GradientBoostingRegressor     2  0.751934\n",
       "7   GradientBoostingRegressor     3  0.805065\n",
       "8   GradientBoostingRegressor     4  0.732106\n",
       "9   GradientBoostingRegressor     5  0.755776\n",
       "10               XGBRegressor     1  0.555829\n",
       "11               XGBRegressor     2  0.606364\n",
       "12               XGBRegressor     3  0.657238\n",
       "13               XGBRegressor     4  0.627007\n",
       "14               XGBRegressor     5  0.582790"
      ]
     },
     "execution_count": 199,
     "metadata": {},
     "output_type": "execute_result"
    }
   ],
   "source": [
    "df_scores = pd.DataFrame(result_list)\n",
    "df_scores"
   ]
  },
  {
   "cell_type": "code",
   "execution_count": 200,
   "metadata": {},
   "outputs": [
    {
     "data": {
      "text/plain": [
       "alg_name\n",
       "AdaBoostRegressor            0.752166\n",
       "GradientBoostingRegressor    0.755599\n",
       "XGBRegressor                 0.605846\n",
       "Name: roc, dtype: float64"
      ]
     },
     "execution_count": 200,
     "metadata": {},
     "output_type": "execute_result"
    }
   ],
   "source": [
    "df_scores.groupby('alg_name')['roc'].mean()"
   ]
  },
  {
   "cell_type": "markdown",
   "metadata": {},
   "source": [
    "With XGBRegressor now finalised, now we need to test and finalise the hyperparameters best suited for our project. Using GridSearchCV to finalise on hyper parameters to use."
   ]
  },
  {
   "cell_type": "code",
   "execution_count": 205,
   "metadata": {},
   "outputs": [
    {
     "name": "stderr",
     "output_type": "stream",
     "text": [
      "/opt/conda/lib/python3.6/site-packages/sklearn/model_selection/_search.py:761: DeprecationWarning: The grid_scores_ attribute was deprecated in version 0.18 in favor of the more elaborate cv_results_ attribute. The grid_scores_ attribute will not be available from 0.20\n",
      "  DeprecationWarning)\n"
     ]
    }
   ],
   "source": [
    "parameters = { 'learning_rate' : [0.1],\n",
    "                'n_estimators' :[500],\n",
    "                'reg_alpha' : [0.05],\n",
    "                'subsample' : [0.6],\n",
    "                'colsample_bytree' : [0.7],\n",
    "                'gamma' : [0.2],\n",
    "                'max_depth' : [3],\n",
    "                'min_child_weight' : [2],\n",
    "                'objective' : ['binary:logistic'],\n",
    "                'scale_pos_weight' : [1],\n",
    "                'random_state' : [42],\n",
    "                'scoring' : ['roc_auc']\n",
    "             }\n",
    "\n",
    "# Perform grid search on the classifier using 'scorer' as the scoring method\n",
    "cv = GridSearchCV(alg_xgb, parameters, scoring = 'roc_auc', n_jobs= -1)\n",
    "\n",
    "# Fit the grid search object to the training data and find the optimal parameters\n",
    "grid_fit = cv.fit(X_train, y_train)\n",
    "\n",
    "cv.grid_scores_, cv.best_params_, cv.best_score_\n",
    "\n",
    "# Get the estimator and predict\n",
    "best_clf = grid_fit.best_estimator_\n",
    "#predictions = (best_clf.fit(X_train, y_train)).predict(X_test)\n",
    "\n",
    "best_predictions = best_clf.predict(X_val)"
   ]
  },
  {
   "cell_type": "code",
   "execution_count": 206,
   "metadata": {},
   "outputs": [
    {
     "data": {
      "text/plain": [
       "0.72427283116698316"
      ]
     },
     "execution_count": 206,
     "metadata": {},
     "output_type": "execute_result"
    }
   ],
   "source": [
    "roc_auc_score(y_val, best_predictions)"
   ]
  },
  {
   "cell_type": "markdown",
   "metadata": {},
   "source": [
    "### Final model for scoring"
   ]
  },
  {
   "cell_type": "code",
   "execution_count": 213,
   "metadata": {},
   "outputs": [
    {
     "name": "stdout",
     "output_type": "stream",
     "text": [
      "0.775990643857\n"
     ]
    }
   ],
   "source": [
    "clf_final = xgb.XGBRegressor(\n",
    "    objective = 'binary:logistic',\n",
    "    max_depth = 5,\n",
    "    min_child_weight = 2,\n",
    "    learning_rate = 0.01,    \n",
    "    reg_alpha = 0.05,\n",
    "    subsample = 0.6,\n",
    "    colsample_bytree = 0.7,\n",
    "    gamma = 0.2,    \n",
    "    scale_pos_weight = 1,\n",
    "    random_state = 42,\n",
    "    n_estimators = 500,\n",
    "    scoring = 'roc_auc')\n",
    "\n",
    "preds = clf_final.fit(X_train,y_train)\n",
    "predictions_test = preds.predict(X_val)\n",
    "print(roc_auc_score(y_val, predictions_test))"
   ]
  },
  {
   "cell_type": "code",
   "execution_count": 214,
   "metadata": {},
   "outputs": [
    {
     "data": {
      "text/plain": [
       "array([ 0.00341953,  0.00324988,  0.00323133,  0.00377345,  0.00392225,\n",
       "        0.00304779,  0.00158646,  0.00416888,  0.00240903,  0.00269469,\n",
       "        0.00654597,  0.00326623,  0.00281847,  0.00285094,  0.00263035,\n",
       "        0.00199622,  0.00212646,  0.00206379,  0.0019592 ,  0.00375027,\n",
       "        0.00461571,  0.        ,  0.00482907,  0.00309237,  0.0017093 ,\n",
       "        0.00265192,  0.00520303,  0.00135119,  0.00440843,  0.00102132,\n",
       "        0.00657626,  0.00163337,  0.00309451,  0.00012241,  0.0047506 ,\n",
       "        0.00450654,  0.00204041,  0.00295128,  0.00405032,  0.00377026,\n",
       "        0.00412515,  0.00865746,  0.00508435,  0.00182782,  0.00408437,\n",
       "        0.00490427,  0.00457868,  0.00409925,  0.00423773,  0.01315489,\n",
       "        0.00447   ,  0.00166009,  0.00391318,  0.00410942,  0.00065127,\n",
       "        0.        ,  0.00485176,  0.        ,  0.00266712,  0.00607258,\n",
       "        0.        ,  0.00144846,  0.00274731,  0.00383783,  0.00251395,\n",
       "        0.        ,  0.00400201,  0.00565246,  0.0043189 ,  0.00374105,\n",
       "        0.00443504,  0.00342307,  0.00485515,  0.00460262,  0.00445191,\n",
       "        0.00390006,  0.00323647,  0.        ,  0.00323911,  0.00410216,\n",
       "        0.00572006,  0.00427977,  0.00506487,  0.00416978,  0.00457656,\n",
       "        0.00364251,  0.00444633,  0.00409837,  0.00274373,  0.00428497,\n",
       "        0.00392554,  0.00509838,  0.00547509,  0.00421896,  0.00502246,\n",
       "        0.00331572,  0.00451906,  0.00455558,  0.00463152,  0.00240218,\n",
       "        0.00313535,  0.00403319,  0.00322851,  0.00323834,  0.00514287,\n",
       "        0.00510467,  0.00457182,  0.00354821,  0.00494199,  0.00488414,\n",
       "        0.00508821,  0.00370758,  0.00574205,  0.00385671,  0.0040283 ,\n",
       "        0.00359797,  0.00530344,  0.00406904,  0.00535525,  0.00366002,\n",
       "        0.004126  ,  0.00720228,  0.00434168,  0.00398485,  0.00398813,\n",
       "        0.00501999,  0.00239725,  0.00569345,  0.00344979,  0.0049084 ,\n",
       "        0.00435448,  0.00347117,  0.00123319,  0.00437554,  0.00367653,\n",
       "        0.00365002,  0.00470498,  0.00180558,  0.00423124,  0.00364344,\n",
       "        0.00378367,  0.00527804,  0.00416378,  0.00398435,  0.00411173,\n",
       "        0.00559207,  0.00269922,  0.002704  ,  0.00350422,  0.00457256,\n",
       "        0.00316369,  0.00341163,  0.00453556,  0.00409696,  0.00474469,\n",
       "        0.00356612,  0.00295869,  0.00473571,  0.00435956,  0.00474231,\n",
       "        0.00220751,  0.00406673,  0.002404  ,  0.00372718,  0.00331704,\n",
       "        0.00481062,  0.00450182,  0.00418907,  0.00343836,  0.00394834,\n",
       "        0.0046972 ,  0.00233984,  0.00387276,  0.00553922,  0.00237536,\n",
       "        0.00314987,  0.00383375,  0.00361901,  0.00259618,  0.00450445,\n",
       "        0.0039618 ,  0.00330029,  0.00324538,  0.00596736,  0.00436162,\n",
       "        0.00241772,  0.00427597,  0.00535967,  0.00368011,  0.00486899,\n",
       "        0.00398891,  0.00237467,  0.00326629,  0.0037186 ,  0.00589353,\n",
       "        0.00271482,  0.00392885,  0.00392053,  0.00544806,  0.00440094,\n",
       "        0.0044206 ,  0.00449357,  0.00287926,  0.00478605,  0.00367121,\n",
       "        0.00350035,  0.00367481,  0.00366969,  0.00476329,  0.00562354,\n",
       "        0.00315308,  0.00463721,  0.00322931,  0.00325786,  0.00365834,\n",
       "        0.00500233,  0.00382849,  0.00270176,  0.00518752,  0.00272484,\n",
       "        0.00350917,  0.00504814,  0.00242604,  0.00458704,  0.00314198,\n",
       "        0.00226417,  0.00310328,  0.00312429,  0.00404709,  0.00406421,\n",
       "        0.00431503,  0.00331394,  0.00297038,  0.00224422,  0.00351797,\n",
       "        0.00379134,  0.00450552,  0.00071736,  0.00127859,  0.0048367 ,\n",
       "        0.00398701,  0.00253645,  0.00361976,  0.00430229,  0.00463143,\n",
       "        0.00306766,  0.0036398 ,  0.00140329,  0.00434946,  0.00316086,\n",
       "        0.        ,  0.00171123,  0.00173064,  0.        ,  0.        ,\n",
       "        0.00172296,  0.00090093,  0.00082967,  0.        ,  0.00201625,\n",
       "        0.        ,  0.        ,  0.00069035,  0.00270472,  0.        ,\n",
       "        0.        ,  0.00435074,  0.00074722,  0.        ,  0.00135317,\n",
       "        0.0036938 ,  0.00283329,  0.00190212,  0.        ,  0.        ,\n",
       "        0.        ,  0.0018519 ,  0.0011766 ,  0.        ,  0.0006141 ,\n",
       "        0.0008943 ,  0.00082128,  0.        ,  0.0010515 ,  0.        ,\n",
       "        0.        ,  0.00263572,  0.00072795,  0.        ,  0.00280185,\n",
       "        0.        ,  0.00049765,  0.00121414,  0.00217993,  0.0022697 ,\n",
       "        0.        ,  0.00177915,  0.00536919,  0.00738583], dtype=float32)"
      ]
     },
     "execution_count": 214,
     "metadata": {},
     "output_type": "execute_result"
    }
   ],
   "source": [
    "feat_importance = clf_final.feature_importances_\n",
    "feat_importance"
   ]
  },
  {
   "cell_type": "code",
   "execution_count": 215,
   "metadata": {},
   "outputs": [
    {
     "name": "stdout",
     "output_type": "stream",
     "text": [
      "['D19_SOZIALES' 'D19_LEBENSMITTEL' 'OST_WEST_KZ_W' 'KBA05_SEG8'\n",
      " 'D19_DROGERIEARTIKEL']\n",
      "[ 0.01315489  0.00865746  0.00738583  0.00720228  0.00657626]\n"
     ]
    },
    {
     "data": {
      "image/png": "[encoded data removed]",
      "text/plain": [
       "<matplotlib.figure.Figure at 0x7fe4012a3d30>"
      ]
     },
     "metadata": {
      "needs_background": "light"
     },
     "output_type": "display_data"
    }
   ],
   "source": [
    "num_feat = 5\n",
    "indices = np.argsort(feat_importance)[::-1]\n",
    "columns = X_train.columns.values[indices[:num_feat]]\n",
    "values = feat_importance[indices][:num_feat]\n",
    "\n",
    "print(columns)\n",
    "print(values)\n",
    "\n",
    "plt.title('Feature Importances')\n",
    "plt.barh(np.arange(num_feat), values, color='b', align='center', label = \"Feature Weight\")\n",
    "\n",
    "plt.yticks(np.arange(num_feat), columns)\n",
    "plt.xlabel('Relative Importance')\n",
    "plt.show()"
   ]
  },
  {
   "cell_type": "markdown",
   "metadata": {},
   "source": [
    "From quick comparison of above charts, we can see drastic difference in the distribution of the most important feature \"D19_SOZIALES\". In Cluster 5 the over represented cluster of customer, there is a single bar and in Cluster 10 under represented cluster of customer there is a distribution and not a consolidation in 1 particular value"
   ]
  },
  {
   "cell_type": "markdown",
   "metadata": {},
   "source": [
    "## Part 3: Kaggle Competition\n",
    "\n",
    "Now that you've created a model to predict which individuals are most likely to respond to a mailout campaign, it's time to test that model in competition through Kaggle. If you click on the link here, you'll be taken to the competition page where, if you have a Kaggle account, you can enter. If you're one of the top performers, you may have the chance to be contacted by a hiring manager from Arvato or Bertelsmann for an interview!\n",
    "\n",
    "Your entry to the competition should be a CSV file with two columns. The first column should be a copy of \"LNR\", which acts as an ID number for each individual in the \"TEST\" partition. The second column, \"RESPONSE\", should be some measure of how likely each individual became a customer – this might not be a straightforward probability. As you should have found in Part 2, there is a large output class imbalance, where most individuals did not respond to the mailout. Thus, predicting individual classes and using accuracy does not seem to be an appropriate performance evaluation method. Instead, the competition will be using AUC to evaluate performance. The exact values of the \"RESPONSE\" column do not matter as much: only that the higher values try to capture as many of the actual customers as possible, early in the ROC curve sweep."
   ]
  },
  {
   "cell_type": "code",
   "execution_count": 222,
   "metadata": {},
   "outputs": [
    {
     "name": "stderr",
     "output_type": "stream",
     "text": [
      "/opt/conda/lib/python3.6/site-packages/IPython/core/interactiveshell.py:2785: DtypeWarning: Columns (18,19) have mixed types. Specify dtype option on import or set low_memory=False.\n",
      "  interactivity=interactivity, compiler=compiler, result=result)\n"
     ]
    }
   ],
   "source": [
    "mailout_test = pd.read_csv('../../data/Term2/capstone/arvato_data/Udacity_MAILOUT_052018_TEST.csv', sep=';')"
   ]
  },
  {
   "cell_type": "code",
   "execution_count": 223,
   "metadata": {},
   "outputs": [
    {
     "data": {
      "text/plain": [
       "['RESPONSE']"
      ]
     },
     "execution_count": 223,
     "metadata": {},
     "output_type": "execute_result"
    }
   ],
   "source": [
    "# as we want to make prediction using model trained with mailout_train, check/make sure this dataset is not different\n",
    "missing = list(np.setdiff1d(mailout_train.columns, mailout_test.columns))\n",
    "missing"
   ]
  },
  {
   "cell_type": "code",
   "execution_count": 224,
   "metadata": {},
   "outputs": [
    {
     "name": "stdout",
     "output_type": "stream",
     "text": [
      "before preprocessing mailout_test.shape:  (42833, 366)\n",
      "shape after corr (42833, 253)\n",
      "shape after one-hot (42833, 300)\n",
      "shape after impute (42833, 300)\n",
      "shape after scaling (42833, 300)\n",
      "after preprocessing mailout_test_clean.shape:  (42833, 299)\n"
     ]
    }
   ],
   "source": [
    "print('before preprocessing mailout_test.shape: ', mailout_test.shape)\n",
    "mailout_test_clean = data_preprocess_2(mailout_test, False)\n",
    "print('after preprocessing mailout_test_clean.shape: ', mailout_test_clean.shape)"
   ]
  },
  {
   "cell_type": "code",
   "execution_count": 228,
   "metadata": {},
   "outputs": [
    {
     "data": {
      "text/plain": [
       "0"
      ]
     },
     "execution_count": 228,
     "metadata": {},
     "output_type": "execute_result"
    }
   ],
   "source": [
    "# Cheking number of registers with missing value\n",
    "mailout_test_clean.isnull().sum().sum()"
   ]
  },
  {
   "cell_type": "code",
   "execution_count": 227,
   "metadata": {},
   "outputs": [],
   "source": [
    "prediction_for_kaggle = clf_final.predict(mailout_test_clean)"
   ]
  },
  {
   "cell_type": "code",
   "execution_count": 229,
   "metadata": {},
   "outputs": [
    {
     "data": {
      "text/html": [
       "<div>\n",
       "<style scoped>\n",
       "    .dataframe tbody tr th:only-of-type {\n",
       "        vertical-align: middle;\n",
       "    }\n",
       "\n",
       "    .dataframe tbody tr th {\n",
       "        vertical-align: top;\n",
       "    }\n",
       "\n",
       "    .dataframe thead th {\n",
       "        text-align: right;\n",
       "    }\n",
       "</style>\n",
       "<table border=\"1\" class=\"dataframe\">\n",
       "  <thead>\n",
       "    <tr style=\"text-align: right;\">\n",
       "      <th></th>\n",
       "      <th>RESPONSE</th>\n",
       "    </tr>\n",
       "    <tr>\n",
       "      <th>LNR</th>\n",
       "      <th></th>\n",
       "    </tr>\n",
       "  </thead>\n",
       "  <tbody>\n",
       "    <tr>\n",
       "      <th>1754</th>\n",
       "      <td>0.034785</td>\n",
       "    </tr>\n",
       "    <tr>\n",
       "      <th>1770</th>\n",
       "      <td>0.030579</td>\n",
       "    </tr>\n",
       "    <tr>\n",
       "      <th>1465</th>\n",
       "      <td>0.008365</td>\n",
       "    </tr>\n",
       "    <tr>\n",
       "      <th>1470</th>\n",
       "      <td>0.009189</td>\n",
       "    </tr>\n",
       "    <tr>\n",
       "      <th>1478</th>\n",
       "      <td>0.012278</td>\n",
       "    </tr>\n",
       "    <tr>\n",
       "      <th>1782</th>\n",
       "      <td>0.007335</td>\n",
       "    </tr>\n",
       "    <tr>\n",
       "      <th>1485</th>\n",
       "      <td>0.007656</td>\n",
       "    </tr>\n",
       "    <tr>\n",
       "      <th>1519</th>\n",
       "      <td>0.025252</td>\n",
       "    </tr>\n",
       "    <tr>\n",
       "      <th>1835</th>\n",
       "      <td>0.026117</td>\n",
       "    </tr>\n",
       "    <tr>\n",
       "      <th>1522</th>\n",
       "      <td>0.008401</td>\n",
       "    </tr>\n",
       "  </tbody>\n",
       "</table>\n",
       "</div>"
      ],
      "text/plain": [
       "      RESPONSE\n",
       "LNR           \n",
       "1754  0.034785\n",
       "1770  0.030579\n",
       "1465  0.008365\n",
       "1470  0.009189\n",
       "1478  0.012278\n",
       "1782  0.007335\n",
       "1485  0.007656\n",
       "1519  0.025252\n",
       "1835  0.026117\n",
       "1522  0.008401"
      ]
     },
     "execution_count": 229,
     "metadata": {},
     "output_type": "execute_result"
    }
   ],
   "source": [
    "df_kaggle = pd.DataFrame(index=mailout_test['LNR'].astype('int32'), data=prediction_for_kaggle)\n",
    "df_kaggle.rename(columns={0: \"RESPONSE\"}, inplace=True)\n",
    "df_kaggle.head(10)"
   ]
  },
  {
   "cell_type": "code",
   "execution_count": 230,
   "metadata": {},
   "outputs": [],
   "source": [
    "df_kaggle.to_csv('submission.csv')"
   ]
  }
 ],
 "metadata": {
  "kernelspec": {
   "display_name": "Python 3",
   "language": "python",
   "name": "python3"
  },
  "language_info": {
   "codemirror_mode": {
    "name": "ipython",
    "version": 3
   },
   "file_extension": ".py",
   "mimetype": "text/x-python",
   "name": "python",
   "nbconvert_exporter": "python",
   "pygments_lexer": "ipython3",
   "version": "3.6.3"
  }
 },
 "nbformat": 4,
 "nbformat_minor": 2
}
